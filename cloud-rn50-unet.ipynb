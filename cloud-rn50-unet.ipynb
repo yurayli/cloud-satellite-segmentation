{
 "cells": [
  {
   "cell_type": "code",
   "execution_count": 1,
   "metadata": {
    "_kg_hide-output": true,
    "execution": {
     "iopub.execute_input": "2020-11-03T09:11:56.119273Z",
     "iopub.status.busy": "2020-11-03T09:11:56.117476Z",
     "iopub.status.idle": "2020-11-03T09:16:35.421259Z",
     "shell.execute_reply": "2020-11-03T09:16:35.420294Z"
    },
    "papermill": {
     "duration": 279.336911,
     "end_time": "2020-11-03T09:16:35.421427",
     "exception": false,
     "start_time": "2020-11-03T09:11:56.084516",
     "status": "completed"
    },
    "tags": []
   },
   "outputs": [
    {
     "name": "stdout",
     "output_type": "stream",
     "text": [
      "/opt/conda/lib/python3.7/site-packages/pip/_internal/commands/install.py:235: UserWarning: Disabling all use of wheels due to the use of --build-option / --global-option / --install-option.\r\n",
      "  cmdoptions.check_install_build_global(options)\r\n",
      "Processing /kaggle/input/apex-325f5a0/apex-master\r\n",
      "Skipping wheel build for apex, due to binaries being disabled for it.\r\n",
      "Installing collected packages: apex\r\n",
      "    Running setup.py install for apex ... \u001b[?25l-\b \b\\\b \b|\b \b/\b \b-\b \b\\\b \b|\b \b/\b \b-\b \b\\\b \b|\b \b/\b \b-\b \b\\\b \b|\b \b/\b \b-\b \b\\\b \b|\b \b/\b \b-\b \b\\\b \b|\b \b/\b \b-\b \b\\\b \bdone\r\n",
      "\u001b[?25hSuccessfully installed apex-0.1\r\n"
     ]
    }
   ],
   "source": [
    "!pip install -q git+https://github.com/qubvel/segmentation_models.pytorch\n",
    "!pip install -q -v --no-cache-dir --global-option=\"--cpp_ext\" --global-option=\"--cuda_ext\" ../input/apex-325f5a0/apex-master/\n",
    "from apex import amp"
   ]
  },
  {
   "cell_type": "code",
   "execution_count": 2,
   "metadata": {
    "_cell_guid": "b1076dfc-b9ad-4769-8c92-a6c4dae69d19",
    "_kg_hide-input": true,
    "_kg_hide-output": true,
    "_uuid": "8f2839f25d086af736a60e9eeb907d3b93b6e0e5",
    "execution": {
     "iopub.execute_input": "2020-11-03T09:16:35.509836Z",
     "iopub.status.busy": "2020-11-03T09:16:35.509104Z",
     "iopub.status.idle": "2020-11-03T09:16:39.785815Z",
     "shell.execute_reply": "2020-11-03T09:16:39.784473Z"
    },
    "papermill": {
     "duration": 4.329399,
     "end_time": "2020-11-03T09:16:39.785974",
     "exception": false,
     "start_time": "2020-11-03T09:16:35.456575",
     "status": "completed"
    },
    "tags": []
   },
   "outputs": [],
   "source": [
    "import os, gc, time, json, copy\n",
    "import pickle, random, itertools, collections\n",
    "import tqdm\n",
    "from functools import partial\n",
    "\n",
    "import numpy as np\n",
    "import pandas as pd\n",
    "from PIL import Image\n",
    "import cv2\n",
    "\n",
    "from sklearn.model_selection import KFold, StratifiedKFold, train_test_split\n",
    "from sklearn.metrics import roc_auc_score\n",
    "\n",
    "import torchvision\n",
    "import torchvision.transforms as transforms\n",
    "import torch\n",
    "import torch.nn as nn\n",
    "import torch.nn.functional as F\n",
    "import torch.optim as optim\n",
    "from torch.optim import lr_scheduler\n",
    "from torch.utils.data import TensorDataset, DataLoader, Dataset\n",
    "from torch.utils.data.sampler import SubsetRandomSampler\n",
    "from torch.optim.lr_scheduler import StepLR, ReduceLROnPlateau, CosineAnnealingLR\n",
    "\n",
    "import albumentations as albu\n",
    "from albumentations import pytorch as AT\n",
    "\n",
    "import segmentation_models_pytorch as smp\n",
    "\n",
    "import matplotlib.pyplot as plt\n",
    "import seaborn as sns\n",
    "%matplotlib inline"
   ]
  },
  {
   "cell_type": "markdown",
   "metadata": {
    "papermill": {
     "duration": 0.034698,
     "end_time": "2020-11-03T09:16:39.855975",
     "exception": false,
     "start_time": "2020-11-03T09:16:39.821277",
     "status": "completed"
    },
    "tags": []
   },
   "source": [
    "## Configuration"
   ]
  },
  {
   "cell_type": "code",
   "execution_count": 3,
   "metadata": {
    "execution": {
     "iopub.execute_input": "2020-11-03T09:16:40.293162Z",
     "iopub.status.busy": "2020-11-03T09:16:40.292304Z",
     "iopub.status.idle": "2020-11-03T09:16:40.297869Z",
     "shell.execute_reply": "2020-11-03T09:16:40.297186Z"
    },
    "papermill": {
     "duration": 0.407183,
     "end_time": "2020-11-03T09:16:40.298014",
     "exception": false,
     "start_time": "2020-11-03T09:16:39.890831",
     "status": "completed"
    },
    "tags": []
   },
   "outputs": [],
   "source": [
    "device = torch.device(\"cuda\" if torch.cuda.is_available() else \"cpu\")\n",
    "SEED = 2019\n",
    "\n",
    "# Data parameters\n",
    "path = '../input/understanding_cloud_organization'\n",
    "img_paths = '../input/understanding-clouds-resized'\n",
    "output_prefix = \"best_model_optim.pt\"\n",
    "n_splits = 5\n",
    "which_fold = 0  # should be int in [0, n_splits-1]\n",
    "\n",
    "# Learning parameters\n",
    "batch_size = 32\n",
    "lr = 1.3e-2\n",
    "epochs_for_sched = 14\n",
    "checkpoint_iter = 200\n",
    "warmup_proportion = 0.25\n",
    "grad_accumulation_steps = 1"
   ]
  },
  {
   "cell_type": "markdown",
   "metadata": {
    "papermill": {
     "duration": 0.035265,
     "end_time": "2020-11-03T09:16:40.368110",
     "exception": false,
     "start_time": "2020-11-03T09:16:40.332845",
     "status": "completed"
    },
    "tags": []
   },
   "source": [
    "## Utils"
   ]
  },
  {
   "cell_type": "code",
   "execution_count": 4,
   "metadata": {
    "_kg_hide-input": true,
    "execution": {
     "iopub.execute_input": "2020-11-03T09:16:40.585028Z",
     "iopub.status.busy": "2020-11-03T09:16:40.579747Z",
     "iopub.status.idle": "2020-11-03T09:16:40.619380Z",
     "shell.execute_reply": "2020-11-03T09:16:40.618712Z"
    },
    "papermill": {
     "duration": 0.216055,
     "end_time": "2020-11-03T09:16:40.619518",
     "exception": false,
     "start_time": "2020-11-03T09:16:40.403463",
     "status": "completed"
    },
    "tags": []
   },
   "outputs": [],
   "source": [
    "sigmoid = lambda x: 1 / (1 + np.exp(-x))\n",
    "\n",
    "def seed_torch(seed=SEED):\n",
    "    torch.manual_seed(seed)\n",
    "    torch.cuda.manual_seed(seed)\n",
    "    torch.backends.cudnn.deterministic = True\n",
    "    torch.backends.cudnn.benchmark = True\n",
    "\n",
    "def get_img(x, folder: str='train_images_525/train_images_525'):\n",
    "    \"\"\"\n",
    "    Return image based on image name and folder.\n",
    "    \"\"\"\n",
    "    data_folder = f\"{img_paths}/{folder}\"\n",
    "    image_path = os.path.join(data_folder, x)\n",
    "    img = cv2.imread(image_path)\n",
    "    img = cv2.cvtColor(img, cv2.COLOR_BGR2RGB)\n",
    "    return img\n",
    "\n",
    "def rle_decode(mask_rle: str = '', shape: tuple = (1400, 2100)):\n",
    "    \"\"\"\n",
    "    Decode run-length encoded mask.\n",
    "    \n",
    "    :param mask_rle: run-length as string formatted (start length)\n",
    "    :param shape: (height, width) of array to return \n",
    "    Returns numpy array, 1 - mask, 0 - background\n",
    "    \"\"\"\n",
    "    s = mask_rle.split()\n",
    "    starts, lengths = [np.asarray(x, dtype=int) for x in (s[0:][::2], s[1:][::2])]\n",
    "    starts -= 1\n",
    "    ends = starts + lengths\n",
    "    img = np.zeros(shape[0] * shape[1], dtype=np.uint8)\n",
    "    for lo, hi in zip(starts, ends):\n",
    "        img[lo:hi] = 1\n",
    "    return img.reshape(shape, order='F')\n",
    "\n",
    "def make_mask(image_name: str='img.jpg', shape: tuple=(350, 525)):\n",
    "    \"Create mask (ndarray, values between 0-1) based on image name and shape.\"\n",
    "    masks = np.zeros((shape[0], shape[1], 4), dtype=np.float32)\n",
    "    for classidx, classid in enumerate([\"Fish\", \"Flower\", \"Gravel\", \"Sugar\"]):\n",
    "        mask = cv2.imread(\"../input/understanding-clouds-resized/train_masks_525/train_masks_525/\" + classid + image_name)\n",
    "        if mask is None:\n",
    "            continue\n",
    "        if mask[:,:,0].shape != (350,525):\n",
    "            mask = cv2.resize(mask, (525,350))\n",
    "        masks[:, :, classidx] = mask[:,:,0]\n",
    "    masks = masks / 255\n",
    "    return masks\n",
    "\n",
    "def mask2rle(img):\n",
    "    \"\"\"\n",
    "    Convert mask to run-length encoding.\n",
    "    img: numpy array, 1 - mask, 0 - background\n",
    "    Returns run length as string formated\n",
    "    \"\"\"\n",
    "    pixels= img.T.flatten()\n",
    "    pixels = np.concatenate([[0], pixels, [0]])\n",
    "    runs = np.where(pixels[1:] != pixels[:-1])[0] + 1\n",
    "    runs[1::2] -= runs[::2]\n",
    "    return ' '.join(str(x) for x in runs)\n",
    "\n",
    "\n",
    "def visualize(image, mask, original_image=None, original_mask=None):\n",
    "    \"\"\"\n",
    "    Plot images and masks.\n",
    "    \n",
    "    Input\n",
    "    - image: ndarray image loaded from cv2\n",
    "    - mask: ndarray output from make_mask\n",
    "    - original ones: If given, show them all\n",
    "    \"\"\"\n",
    "    fontsize = 14\n",
    "    class_dict = {0: 'Fish', 1: 'Flower', 2: 'Gravel', 3: 'Sugar'}\n",
    "    \n",
    "    if original_image is None and original_mask is None:\n",
    "        f, ax = plt.subplots(1, 5, figsize=(24, 24))\n",
    "\n",
    "        ax[0].imshow(image)\n",
    "        for i in range(4):\n",
    "            ax[i + 1].imshow(mask[:, :, i])\n",
    "            ax[i + 1].set_title(f'Mask {class_dict[i]}', fontsize=fontsize)\n",
    "    else:\n",
    "        f, ax = plt.subplots(2, 5, figsize=(24, 12))\n",
    "\n",
    "        ax[0, 0].imshow(original_image)\n",
    "        ax[0, 0].set_title('Original image', fontsize=fontsize)\n",
    "                \n",
    "        for i in range(4):\n",
    "            ax[0, i + 1].imshow(original_mask[:, :, i])\n",
    "            ax[0, i + 1].set_title(f'Original mask {class_dict[i]}', fontsize=fontsize)\n",
    "        \n",
    "        ax[1, 0].imshow(image)\n",
    "        ax[1, 0].set_title('Transformed image', fontsize=fontsize)        \n",
    "        \n",
    "        for i in range(4):\n",
    "            ax[1, i + 1].imshow(mask[:, :, i])\n",
    "            ax[1, i + 1].set_title(f'Transformed mask {class_dict[i]}', fontsize=fontsize)\n",
    "            \n",
    "            \n",
    "def visualize_with_raw(image, mask, original_image=None, original_mask=None, raw_image=None, raw_mak=None):\n",
    "    \"\"\"\n",
    "    Plot images and masks.\n",
    "    \n",
    "    Input\n",
    "    - image: ndarray image loaded from cv2\n",
    "    - mask: ndarray output from make_mask\n",
    "    - original ones / raw ones: If given, show them all\n",
    "    \"\"\"\n",
    "    fontsize = 14\n",
    "    class_dict = {0: 'Fish', 1: 'Flower', 2: 'Gravel', 3: 'Sugar'}\n",
    "\n",
    "    f, ax = plt.subplots(3, 5, figsize=(24, 12))\n",
    "\n",
    "    ax[0, 0].imshow(original_image)\n",
    "    ax[0, 0].set_title('Original image', fontsize=fontsize)\n",
    "\n",
    "    for i in range(4):\n",
    "        ax[0, i + 1].imshow(original_mask[:, :, i])\n",
    "        ax[0, i + 1].set_title(f'Original mask {class_dict[i]}', fontsize=fontsize)\n",
    "\n",
    "    ax[1, 0].imshow(raw_image)\n",
    "    ax[1, 0].set_title('Original image', fontsize=fontsize)\n",
    "\n",
    "    for i in range(4):\n",
    "        ax[1, i + 1].imshow(raw_mak[:, :, i])\n",
    "        ax[1, i + 1].set_title(f'Raw predicted mask {class_dict[i]}', fontsize=fontsize)\n",
    "        \n",
    "    ax[2, 0].imshow(image)\n",
    "    ax[2, 0].set_title('Transformed image', fontsize=fontsize)\n",
    "\n",
    "    for i in range(4):\n",
    "        ax[2, i + 1].imshow(mask[:, :, i])\n",
    "        ax[2, i + 1].set_title(f'Predicted mask with processing {class_dict[i]}', fontsize=fontsize)\n",
    "            \n",
    "            \n",
    "def plot_with_augmentation(image, mask, augment):\n",
    "    \"\"\"\n",
    "    Plot images, masks and augmentation results.\n",
    "    \n",
    "    Input\n",
    "    - image: ndarray image loaded from cv2\n",
    "    - mask: ndarray output from make_mask\n",
    "    - augment: transformation from albumentations\n",
    "    \"\"\"\n",
    "    augmented = augment(image=image, mask=mask)\n",
    "    image_flipped = augmented['image']\n",
    "    mask_flipped = augmented['mask']\n",
    "    visualize(image_flipped, mask_flipped, original_image=image, original_mask=mask)\n",
    "\n",
    "\n",
    "def post_process(probability, threshold, min_size):\n",
    "    \"\"\"\n",
    "    Post processing of each predicted mask, components with lesser number of pixels\n",
    "    than `min_size` are ignored\n",
    "    \n",
    "    Input\n",
    "    - probability: predicted probability mask, ndarray (350, 525)\n",
    "    - threshold: value to binarize probability mask\n",
    "    - min_size: min size to filter false positive\n",
    "    \"\"\"\n",
    "    mask = cv2.threshold(probability, threshold, 1, cv2.THRESH_BINARY)[1]\n",
    "    num_component, component = cv2.connectedComponents(mask.astype(np.uint8))\n",
    "    predictions = np.zeros((350, 525), np.float32)\n",
    "    num = 0\n",
    "    for c in range(1, num_component):\n",
    "        p = (component == c)\n",
    "        if p.sum() > min_size:\n",
    "            predictions[p] = 1\n",
    "            num += 1\n",
    "    return predictions, num\n",
    "\n",
    "def post_process_val(probability, threshold, min_size):\n",
    "    \"\"\"\n",
    "    Post processing of each predicted mask, components with lesser number of pixels\n",
    "    than `min_size` are ignored\n",
    "    \n",
    "    Input\n",
    "    - probability: predicted probability mask, ndarray (256, 384)\n",
    "    - threshold: value to binarize probability mask\n",
    "    - min_size: min size to filter false positive\n",
    "    \"\"\"\n",
    "    mask = cv2.threshold(probability, threshold, 1, cv2.THRESH_BINARY)[1]\n",
    "    num_component, component = cv2.connectedComponents(mask.astype(np.uint8))\n",
    "    predictions = np.zeros((256, 384), np.float32)\n",
    "    num = 0\n",
    "    for c in range(1, num_component):\n",
    "        p = (component == c)\n",
    "        if p.sum() > min_size:\n",
    "            predictions[p] = 1\n",
    "            num += 1\n",
    "    return predictions\n",
    "\n",
    "\n",
    "def get_training_augmentation():\n",
    "    train_transform = [\n",
    "        albu.Resize(256, 384),\n",
    "        albu.HorizontalFlip(),\n",
    "        albu.VerticalFlip(),\n",
    "        albu.ShiftScaleRotate(scale_limit=0.35, rotate_limit=10, shift_limit=0.1, border_mode=0),\n",
    "    ]\n",
    "    return albu.Compose(train_transform)\n",
    "\n",
    "def get_validation_augmentation():\n",
    "    \"\"\"Add paddings to make image shape divisible by 32\"\"\"\n",
    "    test_transform = [\n",
    "        albu.Resize(256, 384)\n",
    "    ]\n",
    "    return albu.Compose(test_transform)\n",
    "\n",
    "def to_tensor(x, **kwargs):\n",
    "    \"\"\"\n",
    "    Convert image or mask.\n",
    "    \"\"\"\n",
    "    return x.transpose(2, 0, 1).astype('float32')\n",
    "\n",
    "def get_preprocessing(preprocessing_fn):\n",
    "    \"\"\"Construct preprocessing transform\n",
    "    \n",
    "    Args:\n",
    "        preprocessing_fn (callbale): data normalization function \n",
    "            (can be specific for each pretrained neural network)\n",
    "    Return:\n",
    "        transform: albumentations.Compose\n",
    "    \n",
    "    \"\"\"\n",
    "    _transform = [\n",
    "        albu.Lambda(image=preprocessing_fn),\n",
    "        albu.Lambda(image=to_tensor, mask=to_tensor),\n",
    "    ]\n",
    "    return albu.Compose(_transform)\n",
    "\n",
    "\n",
    "def compute_dice(img1, img2):\n",
    "    img1 = np.asarray(img1).astype(np.bool)\n",
    "    img2 = np.asarray(img2).astype(np.bool)\n",
    "    intersection = np.logical_and(img1, img2)\n",
    "    return 2. * intersection.sum() / (img1.sum() + img2.sum())"
   ]
  },
  {
   "cell_type": "markdown",
   "metadata": {
    "papermill": {
     "duration": 0.038595,
     "end_time": "2020-11-03T09:16:40.695339",
     "exception": false,
     "start_time": "2020-11-03T09:16:40.656744",
     "status": "completed"
    },
    "tags": []
   },
   "source": [
    "## Data overview\n",
    "\n",
    "Let's have a look at the data first.\n",
    "We have folders with train and test images, file with train image ids and masks and sample submission."
   ]
  },
  {
   "cell_type": "code",
   "execution_count": 5,
   "metadata": {
    "execution": {
     "iopub.execute_input": "2020-11-03T09:16:40.781343Z",
     "iopub.status.busy": "2020-11-03T09:16:40.780433Z",
     "iopub.status.idle": "2020-11-03T09:16:43.554923Z",
     "shell.execute_reply": "2020-11-03T09:16:43.556104Z"
    },
    "papermill": {
     "duration": 2.822569,
     "end_time": "2020-11-03T09:16:43.556271",
     "exception": false,
     "start_time": "2020-11-03T09:16:40.733702",
     "status": "completed"
    },
    "tags": []
   },
   "outputs": [],
   "source": [
    "train = pd.read_csv(f'{path}/train.csv')\n",
    "sub = pd.read_csv(f'{path}/sample_submission.csv')"
   ]
  },
  {
   "cell_type": "code",
   "execution_count": 6,
   "metadata": {
    "execution": {
     "iopub.execute_input": "2020-11-03T09:16:43.681034Z",
     "iopub.status.busy": "2020-11-03T09:16:43.679752Z",
     "iopub.status.idle": "2020-11-03T09:16:43.836921Z",
     "shell.execute_reply": "2020-11-03T09:16:43.838613Z"
    },
    "papermill": {
     "duration": 0.223508,
     "end_time": "2020-11-03T09:16:43.838819",
     "exception": false,
     "start_time": "2020-11-03T09:16:43.615311",
     "status": "completed"
    },
    "tags": []
   },
   "outputs": [
    {
     "name": "stdout",
     "output_type": "stream",
     "text": [
      "There are 5546 images in train dataset\n",
      "There are 3698 images in test dataset\n"
     ]
    }
   ],
   "source": [
    "n_train = len(os.listdir(f'{img_paths}/train_images_525/train_images_525'))\n",
    "n_test = len(os.listdir(f'{img_paths}/test_images_525/test_images_525'))\n",
    "print(f'There are {n_train} images in train dataset')\n",
    "print(f'There are {n_test} images in test dataset')"
   ]
  },
  {
   "cell_type": "markdown",
   "metadata": {
    "papermill": {
     "duration": 0.055657,
     "end_time": "2020-11-03T09:16:43.951793",
     "exception": false,
     "start_time": "2020-11-03T09:16:43.896136",
     "status": "completed"
    },
    "tags": []
   },
   "source": [
    "## Preparing data for modelling\n",
    "\n",
    "At first, let's create a list of unique image_ids and the count of masks for each image. This will allow us to make a stratified split based on this count."
   ]
  },
  {
   "cell_type": "code",
   "execution_count": 7,
   "metadata": {
    "execution": {
     "iopub.execute_input": "2020-11-03T09:16:44.073599Z",
     "iopub.status.busy": "2020-11-03T09:16:44.072586Z",
     "iopub.status.idle": "2020-11-03T09:16:44.080269Z",
     "shell.execute_reply": "2020-11-03T09:16:44.079451Z"
    },
    "papermill": {
     "duration": 0.072211,
     "end_time": "2020-11-03T09:16:44.080454",
     "exception": false,
     "start_time": "2020-11-03T09:16:44.008243",
     "status": "completed"
    },
    "tags": []
   },
   "outputs": [],
   "source": [
    "def train_val_split(id_mask_count, n_splits=None, which_fold=None):\n",
    "    kf = StratifiedKFold(n_splits=n_splits, shuffle=True, random_state=SEED)\n",
    "    cv_indices = [(tr_idx, val_idx) for tr_idx, val_idx in kf.split(id_mask_count['img_id'], id_mask_count['count'])]\n",
    "    if which_fold is not None:\n",
    "        return cv_indices[which_fold]\n",
    "    return cv_indices"
   ]
  },
  {
   "cell_type": "code",
   "execution_count": 8,
   "metadata": {
    "execution": {
     "iopub.execute_input": "2020-11-03T09:16:44.207078Z",
     "iopub.status.busy": "2020-11-03T09:16:44.205930Z",
     "iopub.status.idle": "2020-11-03T09:16:44.267629Z",
     "shell.execute_reply": "2020-11-03T09:16:44.266406Z"
    },
    "papermill": {
     "duration": 0.132395,
     "end_time": "2020-11-03T09:16:44.267762",
     "exception": false,
     "start_time": "2020-11-03T09:16:44.135367",
     "status": "completed"
    },
    "tags": []
   },
   "outputs": [],
   "source": [
    "id_mask_count = (train.loc[~train['EncodedPixels'].isnull(), 'Image_Label']\n",
    "                    .apply(lambda x: x.split('_')[0])\n",
    "                    .value_counts()\n",
    "                    .reset_index()\n",
    "                    .rename(columns={'index': 'img_id', 'Image_Label': 'count'}))\n",
    "\n",
    "trn_idx, val_idx = train_val_split(id_mask_count, n_splits, which_fold)\n",
    "train_ids, valid_ids = id_mask_count['img_id'].values[trn_idx], id_mask_count['img_id'].values[val_idx]\n",
    "test_ids = sub['Image_Label'].apply(lambda x: x.split('_')[0]).drop_duplicates().values"
   ]
  },
  {
   "cell_type": "code",
   "execution_count": 9,
   "metadata": {
    "execution": {
     "iopub.execute_input": "2020-11-03T09:16:44.348337Z",
     "iopub.status.busy": "2020-11-03T09:16:44.347217Z",
     "iopub.status.idle": "2020-11-03T09:16:44.352171Z",
     "shell.execute_reply": "2020-11-03T09:16:44.352781Z"
    },
    "papermill": {
     "duration": 0.049134,
     "end_time": "2020-11-03T09:16:44.352924",
     "exception": false,
     "start_time": "2020-11-03T09:16:44.303790",
     "status": "completed"
    },
    "tags": []
   },
   "outputs": [
    {
     "data": {
      "text/plain": [
       "(4436, 1110)"
      ]
     },
     "execution_count": 9,
     "metadata": {},
     "output_type": "execute_result"
    }
   ],
   "source": [
    "len(train_ids), len(valid_ids)"
   ]
  },
  {
   "cell_type": "code",
   "execution_count": 10,
   "metadata": {
    "execution": {
     "iopub.execute_input": "2020-11-03T09:16:44.438263Z",
     "iopub.status.busy": "2020-11-03T09:16:44.437391Z",
     "iopub.status.idle": "2020-11-03T09:16:44.448316Z",
     "shell.execute_reply": "2020-11-03T09:16:44.448935Z"
    },
    "papermill": {
     "duration": 0.059404,
     "end_time": "2020-11-03T09:16:44.449086",
     "exception": false,
     "start_time": "2020-11-03T09:16:44.389682",
     "status": "completed"
    },
    "tags": []
   },
   "outputs": [
    {
     "data": {
      "text/html": [
       "<div>\n",
       "<style scoped>\n",
       "    .dataframe tbody tr th:only-of-type {\n",
       "        vertical-align: middle;\n",
       "    }\n",
       "\n",
       "    .dataframe tbody tr th {\n",
       "        vertical-align: top;\n",
       "    }\n",
       "\n",
       "    .dataframe thead th {\n",
       "        text-align: right;\n",
       "    }\n",
       "</style>\n",
       "<table border=\"1\" class=\"dataframe\">\n",
       "  <thead>\n",
       "    <tr style=\"text-align: right;\">\n",
       "      <th></th>\n",
       "      <th>img_id</th>\n",
       "      <th>count</th>\n",
       "    </tr>\n",
       "  </thead>\n",
       "  <tbody>\n",
       "    <tr>\n",
       "      <th>0</th>\n",
       "      <td>1d20d37.jpg</td>\n",
       "      <td>4</td>\n",
       "    </tr>\n",
       "    <tr>\n",
       "      <th>1</th>\n",
       "      <td>0d56b5d.jpg</td>\n",
       "      <td>4</td>\n",
       "    </tr>\n",
       "    <tr>\n",
       "      <th>2</th>\n",
       "      <td>1fa5dc9.jpg</td>\n",
       "      <td>4</td>\n",
       "    </tr>\n",
       "    <tr>\n",
       "      <th>3</th>\n",
       "      <td>98cfcc2.jpg</td>\n",
       "      <td>4</td>\n",
       "    </tr>\n",
       "    <tr>\n",
       "      <th>4</th>\n",
       "      <td>0c1d048.jpg</td>\n",
       "      <td>4</td>\n",
       "    </tr>\n",
       "    <tr>\n",
       "      <th>...</th>\n",
       "      <td>...</td>\n",
       "      <td>...</td>\n",
       "    </tr>\n",
       "    <tr>\n",
       "      <th>5541</th>\n",
       "      <td>589c00e.jpg</td>\n",
       "      <td>1</td>\n",
       "    </tr>\n",
       "    <tr>\n",
       "      <th>5542</th>\n",
       "      <td>3555fe9.jpg</td>\n",
       "      <td>1</td>\n",
       "    </tr>\n",
       "    <tr>\n",
       "      <th>5543</th>\n",
       "      <td>da0d544.jpg</td>\n",
       "      <td>1</td>\n",
       "    </tr>\n",
       "    <tr>\n",
       "      <th>5544</th>\n",
       "      <td>0d24e80.jpg</td>\n",
       "      <td>1</td>\n",
       "    </tr>\n",
       "    <tr>\n",
       "      <th>5545</th>\n",
       "      <td>725f986.jpg</td>\n",
       "      <td>1</td>\n",
       "    </tr>\n",
       "  </tbody>\n",
       "</table>\n",
       "<p>5546 rows × 2 columns</p>\n",
       "</div>"
      ],
      "text/plain": [
       "           img_id  count\n",
       "0     1d20d37.jpg      4\n",
       "1     0d56b5d.jpg      4\n",
       "2     1fa5dc9.jpg      4\n",
       "3     98cfcc2.jpg      4\n",
       "4     0c1d048.jpg      4\n",
       "...           ...    ...\n",
       "5541  589c00e.jpg      1\n",
       "5542  3555fe9.jpg      1\n",
       "5543  da0d544.jpg      1\n",
       "5544  0d24e80.jpg      1\n",
       "5545  725f986.jpg      1\n",
       "\n",
       "[5546 rows x 2 columns]"
      ]
     },
     "execution_count": 10,
     "metadata": {},
     "output_type": "execute_result"
    }
   ],
   "source": [
    "id_mask_count"
   ]
  },
  {
   "cell_type": "code",
   "execution_count": 11,
   "metadata": {
    "execution": {
     "iopub.execute_input": "2020-11-03T09:16:44.535351Z",
     "iopub.status.busy": "2020-11-03T09:16:44.531717Z",
     "iopub.status.idle": "2020-11-03T09:16:44.538707Z",
     "shell.execute_reply": "2020-11-03T09:16:44.539234Z"
    },
    "papermill": {
     "duration": 0.052273,
     "end_time": "2020-11-03T09:16:44.539372",
     "exception": false,
     "start_time": "2020-11-03T09:16:44.487099",
     "status": "completed"
    },
    "tags": []
   },
   "outputs": [
    {
     "data": {
      "text/plain": [
       "2    2372\n",
       "3    1560\n",
       "1    1348\n",
       "4     266\n",
       "Name: count, dtype: int64"
      ]
     },
     "execution_count": 11,
     "metadata": {},
     "output_type": "execute_result"
    }
   ],
   "source": [
    "id_mask_count['count'].value_counts()"
   ]
  },
  {
   "cell_type": "markdown",
   "metadata": {
    "papermill": {
     "duration": 0.038224,
     "end_time": "2020-11-03T09:16:44.615866",
     "exception": false,
     "start_time": "2020-11-03T09:16:44.577642",
     "status": "completed"
    },
    "tags": []
   },
   "source": [
    "Only 266 images have all four masks."
   ]
  },
  {
   "cell_type": "markdown",
   "metadata": {
    "papermill": {
     "duration": 0.037863,
     "end_time": "2020-11-03T09:16:44.692188",
     "exception": false,
     "start_time": "2020-11-03T09:16:44.654325",
     "status": "completed"
    },
    "tags": []
   },
   "source": [
    "## Setting up data loader, model, solver"
   ]
  },
  {
   "cell_type": "code",
   "execution_count": 12,
   "metadata": {
    "execution": {
     "iopub.execute_input": "2020-11-03T09:16:44.787874Z",
     "iopub.status.busy": "2020-11-03T09:16:44.785733Z",
     "iopub.status.idle": "2020-11-03T09:16:44.788890Z",
     "shell.execute_reply": "2020-11-03T09:16:44.789893Z"
    },
    "papermill": {
     "duration": 0.059579,
     "end_time": "2020-11-03T09:16:44.790109",
     "exception": false,
     "start_time": "2020-11-03T09:16:44.730530",
     "status": "completed"
    },
    "tags": []
   },
   "outputs": [],
   "source": [
    "class CloudDataset(Dataset):\n",
    "    def __init__(self, dataset_type: str='train', img_ids: np.array=None,\n",
    "                 transforms=albu.Compose([albu.HorizontalFlip(), AT.ToTensor()]),\n",
    "                 preprocessing=None, label_smooth=0):\n",
    "        if dataset_type != 'test':\n",
    "            self.data_folder = f\"{img_paths}/train_images_525/train_images_525\"\n",
    "        else:\n",
    "            self.data_folder = f\"{img_paths}/test_images_525/test_images_525\"\n",
    "        self.img_ids = img_ids\n",
    "        self.transforms = transforms\n",
    "        self.preprocessing = preprocessing\n",
    "        self.label_smooth = label_smooth\n",
    "\n",
    "    def __getitem__(self, idx):\n",
    "        image_name = self.img_ids[idx]\n",
    "        mask = make_mask(image_name)\n",
    "        img = cv2.imread(os.path.join(self.data_folder, image_name))\n",
    "        img = cv2.cvtColor(img, cv2.COLOR_BGR2RGB)\n",
    "        augmented = self.transforms(image=img, mask=mask)\n",
    "        img = augmented['image']\n",
    "        mask = augmented['mask']\n",
    "        if self.label_smooth > 0:\n",
    "            mask = np.where(mask==1, 1-label_smooth, label_smooth).astype('float32')\n",
    "        if self.preprocessing:\n",
    "            preprocessed = self.preprocessing(image=img, mask=mask)\n",
    "            img = preprocessed['image']\n",
    "            mask = preprocessed['mask']\n",
    "        return img, mask\n",
    "\n",
    "    def __len__(self):\n",
    "        return len(self.img_ids)"
   ]
  },
  {
   "cell_type": "markdown",
   "metadata": {
    "papermill": {
     "duration": 0.039134,
     "end_time": "2020-11-03T09:16:44.868880",
     "exception": false,
     "start_time": "2020-11-03T09:16:44.829746",
     "status": "completed"
    },
    "tags": []
   },
   "source": [
    "In the optimizer initialization, we split model parameters to 3 parts for differential learning rates."
   ]
  },
  {
   "cell_type": "code",
   "execution_count": 13,
   "metadata": {
    "execution": {
     "iopub.execute_input": "2020-11-03T09:16:44.959551Z",
     "iopub.status.busy": "2020-11-03T09:16:44.958467Z",
     "iopub.status.idle": "2020-11-03T09:16:44.961799Z",
     "shell.execute_reply": "2020-11-03T09:16:44.961204Z"
    },
    "papermill": {
     "duration": 0.054347,
     "end_time": "2020-11-03T09:16:44.961930",
     "exception": false,
     "start_time": "2020-11-03T09:16:44.907583",
     "status": "completed"
    },
    "tags": []
   },
   "outputs": [],
   "source": [
    "ENCODER = 'resnet50'\n",
    "ENCODER_WEIGHTS = 'imagenet'\n",
    "ACTIVATION = None\n",
    "\n",
    "preprocessing_fn = smp.encoders.get_preprocessing_fn(ENCODER, ENCODER_WEIGHTS)\n",
    "\n",
    "def model_optimizer_init(ft_lrs, num_labels=4):\n",
    "    print(\"Building model and optimizer...\")\n",
    "    model = smp.Unet(\n",
    "        encoder_name=ENCODER, \n",
    "        encoder_weights=ENCODER_WEIGHTS, \n",
    "        classes=4, \n",
    "        activation=ACTIVATION\n",
    "    )\n",
    "    param_g1 = [p for c in list(model.encoder.children())[:5] for p in c.parameters()]\n",
    "    param_g2 = [p for c in list(model.encoder.children())[5:] for p in c.parameters()]\n",
    "    optimizer = torch.optim.Adam([\n",
    "        {'params': param_g1, 'lr': ft_lrs[0]},\n",
    "        {'params': param_g2, 'lr': ft_lrs[1]}, \n",
    "        {'params': model.decoder.parameters(), 'lr': ft_lrs[2]},\n",
    "    ])\n",
    "    return model, optimizer"
   ]
  },
  {
   "cell_type": "code",
   "execution_count": 14,
   "metadata": {
    "_kg_hide-input": true,
    "execution": {
     "iopub.execute_input": "2020-11-03T09:16:45.048154Z",
     "iopub.status.busy": "2020-11-03T09:16:45.046504Z",
     "iopub.status.idle": "2020-11-03T09:16:45.048912Z",
     "shell.execute_reply": "2020-11-03T09:16:45.049475Z"
    },
    "papermill": {
     "duration": 0.048615,
     "end_time": "2020-11-03T09:16:45.049629",
     "exception": false,
     "start_time": "2020-11-03T09:16:45.001014",
     "status": "completed"
    },
    "tags": []
   },
   "outputs": [],
   "source": [
    "# def dice_loss(input, target):\n",
    "#     input = torch.sigmoid(input)\n",
    "#     smooth = 1.0\n",
    "#     iflat = input.view(-1)\n",
    "#     tflat = target.view(-1)\n",
    "#     intersection = (iflat * tflat).sum()\n",
    "#     return ((2.0 * intersection + smooth) / (iflat.sum() + tflat.sum() + smooth))\n",
    "\n",
    "\n",
    "# class FocalLoss(nn.Module):\n",
    "#     def __init__(self, gamma):\n",
    "#         super().__init__()\n",
    "#         self.gamma = gamma\n",
    "\n",
    "#     def forward(self, input, target):\n",
    "#         if not (target.size() == input.size()):\n",
    "#             raise ValueError(\"Target size ({}) must be the same as input size ({})\"\n",
    "#                              .format(target.size(), input.size()))\n",
    "#         max_val = (-input).clamp(min=0)\n",
    "#         loss = input - input * target + max_val + \\\n",
    "#             ((-max_val).exp() + (-input - max_val).exp()).log()\n",
    "#         invprobs = F.logsigmoid(-input * (target * 2.0 - 1.0))\n",
    "#         loss = (invprobs * self.gamma).exp() * loss\n",
    "#         return loss.mean()\n",
    "\n",
    "\n",
    "# class MixedLoss(nn.Module):\n",
    "#     def __init__(self, alpha, gamma):\n",
    "#         super().__init__()\n",
    "#         self.alpha = alpha\n",
    "#         self.focal = FocalLoss(gamma)\n",
    "\n",
    "#     def forward(self, input, target):\n",
    "#         loss = self.alpha * self.focal(input, target) - torch.log(dice_loss(input, target))\n",
    "#         return loss.mean()"
   ]
  },
  {
   "cell_type": "code",
   "execution_count": 15,
   "metadata": {
    "execution": {
     "iopub.execute_input": "2020-11-03T09:16:45.173310Z",
     "iopub.status.busy": "2020-11-03T09:16:45.146587Z",
     "iopub.status.idle": "2020-11-03T09:16:45.175771Z",
     "shell.execute_reply": "2020-11-03T09:16:45.176346Z"
    },
    "papermill": {
     "duration": 0.088253,
     "end_time": "2020-11-03T09:16:45.176538",
     "exception": false,
     "start_time": "2020-11-03T09:16:45.088285",
     "status": "completed"
    },
    "tags": []
   },
   "outputs": [],
   "source": [
    "# Functions for the training process\n",
    "\n",
    "class NetSolver(object):\n",
    "\n",
    "    def __init__(self, model, criterion, optimizer, scheduler, print_freq, filepath):\n",
    "        self.model = model\n",
    "        self.criterion = criterion\n",
    "        self.optimizer = optimizer\n",
    "        self.scheduler = scheduler\n",
    "        self.print_freq = print_freq\n",
    "        self.filepath = filepath\n",
    "\n",
    "        self.model = self.model.to(device)\n",
    "        self.criterion = self.criterion.to(device)\n",
    "        self._reset()\n",
    "\n",
    "    def _reset(self):\n",
    "        \"\"\"Set up some book-keeping variables for optimization.\n",
    "        \"\"\"\n",
    "        self.best_val_loss = 1e4\n",
    "        self.best_val_dice = 0.\n",
    "        self.loss_history = []\n",
    "        self.val_loss_history = []\n",
    "        self.dice_history = []\n",
    "        self.val_dice_history = []\n",
    "        self.models = {}\n",
    "\n",
    "    def save_checkpoint(self, iteration):\n",
    "        \"\"\"Save model checkpoint.\n",
    "        \"\"\"\n",
    "#         self.models[f'ckpt_{iteration}'] = self.model.state_dict()\n",
    "        self.model_state = self.model.state_dict()\n",
    "    \n",
    "    def save_final_state(self):\n",
    "        \"\"\"Save final states.\n",
    "        \"\"\"\n",
    "        state = {'model': self.model_state,\n",
    "                 'optimizer': self.optimizer.state_dict()\n",
    "                 }\n",
    "        torch.save(state, self.filepath)\n",
    "\n",
    "    def forward_pass(self, im, gt):\n",
    "        \"\"\"Forward pass through the network.\n",
    "        \"\"\"\n",
    "        im, gt = im.to(device=device, dtype=torch.float), gt.to(device=device, dtype=torch.float)\n",
    "        scores = self.model(im)\n",
    "        loss = self.criterion(scores, gt)\n",
    "        return loss, torch.sigmoid(scores)\n",
    "\n",
    "    def train(self, loaders, iterations, start_time):\n",
    "        \"\"\"Weight of network updated by apex, grad accumulation, model checkpoint.\n",
    "        \"\"\"\n",
    "        train_loader, val_loader = loaders\n",
    "        loader = iter(train_loader)\n",
    "        running_loss = 0.\n",
    "        self.optimizer.zero_grad()\n",
    "\n",
    "        # start training for iterations\n",
    "        for i in range(iterations):\n",
    "            self.model.train()\n",
    "\n",
    "            try:\n",
    "                im, gt = next(loader)\n",
    "            except:\n",
    "                loader = iter(train_loader)\n",
    "                im, gt = next(loader)\n",
    "            loss, _ = self.forward_pass(im, gt)\n",
    "            \n",
    "#             loss.backward()\n",
    "            with amp.scale_loss(loss, self.optimizer) as scaled_loss:\n",
    "                scaled_loss.backward()\n",
    "\n",
    "            # gradient accumulation for larger batch size effect with smaller memory usage\n",
    "            if (i+1) % grad_accumulation_steps == 0:   # Wait for several backward steps\n",
    "                self.optimizer.step()                  # Now we can do an optimizer step\n",
    "                self.optimizer.zero_grad()\n",
    "                self.scheduler.step()\n",
    "\n",
    "            running_loss += loss.item()\n",
    "            \n",
    "            # verbose and checkpoint\n",
    "            if (i+1) % self.print_freq == 0 or (i+1) == iterations:\n",
    "                print(f'Iteration {i+1}:')\n",
    "                train_dice, train_rdice, _ = self.check_metric(train_loader, num_batches=50)\n",
    "                print('{\"metric\": \"Loss\", \"value\": %.4f}' % (running_loss/(i+1),))\n",
    "                print('{\"metric\": \"DICE\", \"value\": %.4f}' % (train_dice,))\n",
    "                print('{\"metric\": \"RDICE\", \"value\": %.4f}' % (train_rdice,))\n",
    "                \n",
    "                is_print = False if (i+1) < iterations else True\n",
    "                val_dice, val_rdice, val_loss = self.check_metric(val_loader)\n",
    "                print('{\"metric\": \"Val. Loss\", \"value\": %.4f}' % (val_loss,))\n",
    "                print('{\"metric\": \"Val. DICE\", \"value\": %.4f}' % (val_dice,))\n",
    "                print('{\"metric\": \"Val. RDICE\", \"value\": %.4f}' % (val_rdice,))\n",
    "                \n",
    "                self.loss_history.append(running_loss/(i+1))\n",
    "                self.val_loss_history.append(val_loss)\n",
    "                self.dice_history.append(train_dice)\n",
    "                self.val_dice_history.append(val_dice)\n",
    "                \n",
    "                if val_loss < self.best_val_loss:\n",
    "                    print('updating best val loss...')\n",
    "                    self.best_val_loss = val_loss\n",
    "                    self.save_checkpoint(i+1)\n",
    "                if val_dice > self.best_val_dice:\n",
    "                    print('updating best val auc...')\n",
    "                    self.best_val_dice = val_dice\n",
    "                \n",
    "                torch.cuda.empty_cache()\n",
    "                print()\n",
    "                \n",
    "            if (time.time() - start_time) > 29000:\n",
    "                break\n",
    "        \n",
    "        self.save_final_state()\n",
    "\n",
    "    def check_metric(self, loader, num_batches=None):\n",
    "        \"\"\"Calculate metrics for validation\n",
    "        \"\"\"\n",
    "        self.model.eval()\n",
    "        losses, dices, rdices = [], [], []\n",
    "        with torch.no_grad():\n",
    "            for t, (im, gt) in enumerate(loader):\n",
    "                l, probs = self.forward_pass(im, gt)\n",
    "                losses.append(l.item())\n",
    "                dices.append(compute_dice((probs.cpu().numpy()>=0.5),\n",
    "                                          gt.cpu().numpy()))\n",
    "                rdices.append(compute_dice(post_process_val(probs.cpu().numpy(), 0.5, 5000),\n",
    "                                           gt.cpu().numpy()))\n",
    "                if num_batches is not None and (t+1) == num_batches:\n",
    "                    break\n",
    "\n",
    "        loss = np.mean(losses)\n",
    "        dice = np.mean(dices)\n",
    "        rdice = np.mean(rdices)\n",
    "\n",
    "        return dice, rdice, loss"
   ]
  },
  {
   "cell_type": "code",
   "execution_count": 16,
   "metadata": {
    "execution": {
     "iopub.execute_input": "2020-11-03T09:16:45.296363Z",
     "iopub.status.busy": "2020-11-03T09:16:45.280624Z",
     "iopub.status.idle": "2020-11-03T09:16:45.312756Z",
     "shell.execute_reply": "2020-11-03T09:16:45.313311Z"
    },
    "papermill": {
     "duration": 0.097558,
     "end_time": "2020-11-03T09:16:45.313495",
     "exception": false,
     "start_time": "2020-11-03T09:16:45.215937",
     "status": "completed"
    },
    "tags": []
   },
   "outputs": [],
   "source": [
    "class OneCycleScheduler(object):\n",
    "    # one-cycle scheduler\n",
    "    SCHEDULES = set(['cosine', 'linear', 'linear_cosine'])\n",
    "\n",
    "    def __init__(self, optimizer, iterations, sched_profile='cosine', max_lr=3e-3,\n",
    "                 moms=(.95, .85), div_factor=25, warmup=0.3, final_div=None):\n",
    "\n",
    "        self.optimizer = optimizer\n",
    "        assert sched_profile in self.SCHEDULES\n",
    "        self.sched_profile = sched_profile\n",
    "\n",
    "        if isinstance(max_lr, list) or isinstance(max_lr, tuple):\n",
    "            if len(max_lr) != len(optimizer.param_groups):\n",
    "                raise ValueError(\"expected {} max_lr, got {}\".format(\n",
    "                    len(optimizer.param_groups), len(max_lr)))\n",
    "            self.max_lrs = list(max_lr)\n",
    "            self.init_lrs = [lr/div_factor for lr in self.max_lrs]\n",
    "        else:\n",
    "            self.max_lrs = [max_lr] * len(optimizer.param_groups)\n",
    "            self.init_lrs = [max_lr/div_factor] * len(optimizer.param_groups)\n",
    "\n",
    "        self.final_div = final_div\n",
    "        if self.final_div is None: self.final_div = div_factor*1e4\n",
    "        self.final_lrs = [lr/self.final_div for lr in self.max_lrs]\n",
    "        self.moms = moms\n",
    "\n",
    "        self.total_iteration = iterations\n",
    "        self.up_iteration = int(self.total_iteration * warmup)\n",
    "        self.down_iteration = self.total_iteration - self.up_iteration\n",
    "\n",
    "        self.curr_iter = 0\n",
    "        self._assign_lr_mom(self.init_lrs, [moms[0]]*len(optimizer.param_groups))\n",
    "\n",
    "    def _assign_lr_mom(self, lrs, moms):\n",
    "        for param_group, lr, mom in zip(self.optimizer.param_groups, lrs, moms):\n",
    "            param_group['lr'] = lr\n",
    "            param_group['betas'] = (mom, 0.999)\n",
    "\n",
    "    def _annealing_cos(self, start, end, pct):\n",
    "        cos_out = np.cos(np.pi * pct) + 1\n",
    "        return end + (start-end)/2 * cos_out\n",
    "\n",
    "    def _annealing_linear(self, start, end, pct):\n",
    "        return start + pct * (end-start)\n",
    "    \n",
    "    def _annealing_function(self, curr_iter):\n",
    "        if self.sched_profile == 'cosine':\n",
    "            return self._annealing_cos\n",
    "        if self.sched_profile == 'linear':\n",
    "            return self._annealing_linear\n",
    "        if self.sched_profile == 'linear_cosine':\n",
    "            if curr_iter <= self.up_iteration:\n",
    "                return self._annealing_linear\n",
    "            else:\n",
    "                return self._annealing_cos\n",
    "    \n",
    "    def step(self):\n",
    "        self.curr_iter += 1\n",
    "        anneal = self._annealing_function(self.curr_iter)\n",
    "\n",
    "        if self.curr_iter <= self.up_iteration:\n",
    "            pct = self.curr_iter / self.up_iteration\n",
    "            curr_lrs = [anneal(min_lr, max_lr, pct) \\\n",
    "                            for min_lr, max_lr in zip(self.init_lrs, self.max_lrs)]\n",
    "            curr_moms = [anneal(self.moms[0], self.moms[1], pct) \\\n",
    "                            for _ in range(len(self.optimizer.param_groups))]\n",
    "        else:\n",
    "            pct = (self.curr_iter-self.up_iteration) / self.down_iteration\n",
    "            curr_lrs = [anneal(max_lr, final_lr, pct) \\\n",
    "                            for max_lr, final_lr in zip(self.max_lrs, self.final_lrs)]\n",
    "            curr_moms = [anneal(self.moms[1], self.moms[0], pct) \\\n",
    "                            for _ in range(len(self.optimizer.param_groups))]\n",
    "\n",
    "        self._assign_lr_mom(curr_lrs, curr_moms)\n",
    "\n",
    "def lr_range_test(train_loader, model, optimizer, criterion, start_lr=1e-7,\n",
    "                  end_lr=10, num_it=100, stop_div=True):\n",
    "    epochs = int(np.ceil(num_it/len(train_loader)))\n",
    "    n_groups = len(optimizer.param_groups)\n",
    "\n",
    "    if isinstance(start_lr, list) or isinstance(start_lr, tuple):\n",
    "        if len(start_lr) != n_groups:\n",
    "            raise ValueError(\"expected {} max_lr, got {}\".format(n_groups, len(start_lr)))\n",
    "        start_lrs = list(start_lr)\n",
    "    else:\n",
    "        start_lrs = [start_lr] * n_groups\n",
    "\n",
    "    if isinstance(end_lr, list) or isinstance(end_lr, tuple):\n",
    "        if len(end_lr) != n_groups:\n",
    "            raise ValueError(\"expected {} max_lr, got {}\".format(n_groups, len(end_lr)))\n",
    "        end_lrs = list(end_lr)\n",
    "    else:\n",
    "        end_lrs = [end_lr] * n_groups\n",
    "\n",
    "    curr_lrs = start_lrs*1\n",
    "    for param_group, lr in zip(optimizer.param_groups, curr_lrs):\n",
    "        param_group['lr'] = lr\n",
    "\n",
    "    n, lrs_logs, loss_log = 0, [], []\n",
    "\n",
    "    for e in range(epochs):\n",
    "        model.train()\n",
    "        for x, y in train_loader:\n",
    "            x, y = x.to(device=device, dtype=torch.float), y.to(device=device, dtype=torch.float)\n",
    "            scores = model(x)\n",
    "            loss = criterion(scores, y)\n",
    "\n",
    "            optimizer.zero_grad()\n",
    "#             loss.backward()\n",
    "            with amp.scale_loss(loss, optimizer) as scaled_loss:\n",
    "                scaled_loss.backward()\n",
    "            optimizer.step()\n",
    "\n",
    "            lrs_logs.append(curr_lrs)\n",
    "            loss_log.append(loss.item())\n",
    "\n",
    "            # update best loss\n",
    "            if n == 0:\n",
    "                best_loss, n_best = loss.item(), n\n",
    "            else:\n",
    "                if loss.item() < best_loss:\n",
    "                    best_loss, n_best = loss.item(), n\n",
    "\n",
    "            # update lr per iter with exponential schedule\n",
    "            n += 1\n",
    "            curr_lrs = [lr * (end_lr/lr) ** (n/num_it) for lr, end_lr in zip(start_lrs, end_lrs)]\n",
    "            for param_group, lr in zip(optimizer.param_groups, curr_lrs):\n",
    "                param_group['lr'] = lr\n",
    "\n",
    "            # stopping condition\n",
    "            if n == num_it or (stop_div and (loss.item() > 4*best_loss or torch.isnan(loss))):\n",
    "                break\n",
    "\n",
    "    print('minimum loss {}, at lr {}'.format(best_loss, lrs_logs[n_best]))\n",
    "    return lrs_logs, loss_log"
   ]
  },
  {
   "cell_type": "markdown",
   "metadata": {
    "papermill": {
     "duration": 0.038947,
     "end_time": "2020-11-03T09:16:45.392164",
     "exception": false,
     "start_time": "2020-11-03T09:16:45.353217",
     "status": "completed"
    },
    "tags": []
   },
   "source": [
    "## Model training"
   ]
  },
  {
   "cell_type": "code",
   "execution_count": 17,
   "metadata": {
    "execution": {
     "iopub.execute_input": "2020-11-03T09:16:45.496613Z",
     "iopub.status.busy": "2020-11-03T09:16:45.495337Z",
     "iopub.status.idle": "2020-11-03T09:16:45.503347Z",
     "shell.execute_reply": "2020-11-03T09:16:45.502602Z"
    },
    "papermill": {
     "duration": 0.07165,
     "end_time": "2020-11-03T09:16:45.503491",
     "exception": false,
     "start_time": "2020-11-03T09:16:45.431841",
     "status": "completed"
    },
    "tags": []
   },
   "outputs": [],
   "source": [
    "train_dataset = CloudDataset(dataset_type='train', img_ids=train_ids,\n",
    "                             transforms=get_training_augmentation(),\n",
    "                             preprocessing=get_preprocessing(preprocessing_fn))\n",
    "\n",
    "valid_dataset = CloudDataset(dataset_type='valid', img_ids=valid_ids,\n",
    "                             transforms=get_validation_augmentation(),\n",
    "                             preprocessing=get_preprocessing(preprocessing_fn))\n",
    "\n",
    "train_loader = DataLoader(train_dataset, batch_size=batch_size, shuffle=True,\n",
    "                          num_workers=4, pin_memory=True)\n",
    "valid_loader = DataLoader(valid_dataset, batch_size=batch_size, shuffle=False,\n",
    "                          num_workers=4, pin_memory=True)"
   ]
  },
  {
   "cell_type": "code",
   "execution_count": 18,
   "metadata": {
    "_kg_hide-output": true,
    "execution": {
     "iopub.execute_input": "2020-11-03T09:16:45.621008Z",
     "iopub.status.busy": "2020-11-03T09:16:45.620126Z",
     "iopub.status.idle": "2020-11-03T09:16:53.646874Z",
     "shell.execute_reply": "2020-11-03T09:16:53.646159Z"
    },
    "papermill": {
     "duration": 8.085907,
     "end_time": "2020-11-03T09:16:53.647015",
     "exception": false,
     "start_time": "2020-11-03T09:16:45.561108",
     "status": "completed"
    },
    "tags": []
   },
   "outputs": [
    {
     "name": "stdout",
     "output_type": "stream",
     "text": [
      "Building model and optimizer...\n"
     ]
    },
    {
     "name": "stderr",
     "output_type": "stream",
     "text": [
      "Downloading: \"https://download.pytorch.org/models/resnet50-19c8e357.pth\" to /root/.cache/torch/hub/checkpoints/resnet50-19c8e357.pth\n"
     ]
    },
    {
     "data": {
      "application/vnd.jupyter.widget-view+json": {
       "model_id": "e84e611225a44b148af31f868b88c0d0",
       "version_major": 2,
       "version_minor": 0
      },
      "text/plain": [
       "HBox(children=(FloatProgress(value=0.0, max=102502400.0), HTML(value='')))"
      ]
     },
     "metadata": {},
     "output_type": "display_data"
    },
    {
     "name": "stdout",
     "output_type": "stream",
     "text": [
      "\n",
      "\n",
      "Each allocated and cached memory in cuda (will clean cache):\n",
      "131.667968M\n",
      "155.189248M\n"
     ]
    },
    {
     "name": "stderr",
     "output_type": "stream",
     "text": [
      "/opt/conda/lib/python3.7/site-packages/torch/cuda/memory.py:346: FutureWarning: torch.cuda.memory_cached has been renamed to torch.cuda.memory_reserved\n",
      "  FutureWarning)\n"
     ]
    }
   ],
   "source": [
    "# model setup\n",
    "seed_torch(SEED)\n",
    "torch.cuda.empty_cache()\n",
    "\n",
    "num_train_steps = int(epochs_for_sched * len(train_loader) / grad_accumulation_steps)\n",
    "ft_lrs = [0.0025*lr, 0.05*lr, lr]\n",
    "\n",
    "model, optimizer = model_optimizer_init(ft_lrs)\n",
    "scheduler = OneCycleScheduler(optimizer, num_train_steps, sched_profile='cosine', max_lr=ft_lrs,\n",
    "                              warmup=warmup_proportion)\n",
    "\n",
    "model = model.to(device)\n",
    "criterion = smp.utils.losses.DiceLoss(eps=1., activation='sigmoid').to(device)\n",
    "model, optimizer = amp.initialize(model, optimizer, opt_level=\"O1\", verbosity=0)\n",
    "solver = NetSolver(model, criterion, optimizer, scheduler, checkpoint_iter, output_prefix)\n",
    "\n",
    "print()\n",
    "print('Each allocated and cached memory in cuda (will clean cache):')\n",
    "print(str(torch.cuda.memory_allocated(device)/1e6 ) + 'M')\n",
    "print(str(torch.cuda.memory_cached(device)/1e6 ) + 'M')\n",
    "torch.cuda.empty_cache()"
   ]
  },
  {
   "cell_type": "code",
   "execution_count": 19,
   "metadata": {
    "execution": {
     "iopub.execute_input": "2020-11-03T09:16:53.750348Z",
     "iopub.status.busy": "2020-11-03T09:16:53.742117Z",
     "iopub.status.idle": "2020-11-03T09:48:35.662114Z",
     "shell.execute_reply": "2020-11-03T09:48:35.661389Z"
    },
    "papermill": {
     "duration": 1901.972575,
     "end_time": "2020-11-03T09:48:35.662251",
     "exception": false,
     "start_time": "2020-11-03T09:16:53.689676",
     "status": "completed"
    },
    "tags": []
   },
   "outputs": [
    {
     "name": "stdout",
     "output_type": "stream",
     "text": [
      "Start training.\n",
      "Iteration 200:\n",
      "{\"metric\": \"Loss\", \"value\": 0.6280}\n",
      "{\"metric\": \"DICE\", \"value\": 0.5139}\n",
      "{\"metric\": \"RDICE\", \"value\": 0.0000}\n",
      "{\"metric\": \"Val. Loss\", \"value\": 0.5765}\n",
      "{\"metric\": \"Val. DICE\", \"value\": 0.5069}\n",
      "{\"metric\": \"Val. RDICE\", \"value\": 0.0000}\n",
      "updating best val loss...\n",
      "updating best val auc...\n",
      "\n",
      "Iteration 400:\n",
      "{\"metric\": \"Loss\", \"value\": 0.5819}\n",
      "{\"metric\": \"DICE\", \"value\": 0.4879}\n",
      "{\"metric\": \"RDICE\", \"value\": 0.0000}\n",
      "{\"metric\": \"Val. Loss\", \"value\": 0.5280}\n",
      "{\"metric\": \"Val. DICE\", \"value\": 0.4941}\n",
      "{\"metric\": \"Val. RDICE\", \"value\": 0.0000}\n",
      "updating best val loss...\n",
      "\n",
      "Iteration 600:\n",
      "{\"metric\": \"Loss\", \"value\": 0.5436}\n",
      "{\"metric\": \"DICE\", \"value\": 0.5494}\n",
      "{\"metric\": \"RDICE\", \"value\": 0.0000}\n",
      "{\"metric\": \"Val. Loss\", \"value\": 0.4547}\n",
      "{\"metric\": \"Val. DICE\", \"value\": 0.5560}\n",
      "{\"metric\": \"Val. RDICE\", \"value\": 0.0000}\n",
      "updating best val loss...\n",
      "updating best val auc...\n",
      "\n",
      "Iteration 800:\n",
      "{\"metric\": \"Loss\", \"value\": 0.5174}\n",
      "{\"metric\": \"DICE\", \"value\": 0.5790}\n",
      "{\"metric\": \"RDICE\", \"value\": 0.0000}\n",
      "{\"metric\": \"Val. Loss\", \"value\": 0.4250}\n",
      "{\"metric\": \"Val. DICE\", \"value\": 0.5806}\n",
      "{\"metric\": \"Val. RDICE\", \"value\": 0.0000}\n",
      "updating best val loss...\n",
      "updating best val auc...\n",
      "\n",
      "Iteration 1000:\n",
      "{\"metric\": \"Loss\", \"value\": 0.4993}\n",
      "{\"metric\": \"DICE\", \"value\": 0.5844}\n",
      "{\"metric\": \"RDICE\", \"value\": 0.0000}\n",
      "{\"metric\": \"Val. Loss\", \"value\": 0.4263}\n",
      "{\"metric\": \"Val. DICE\", \"value\": 0.5772}\n",
      "{\"metric\": \"Val. RDICE\", \"value\": 0.0000}\n",
      "\n",
      "Iteration 1200:\n",
      "{\"metric\": \"Loss\", \"value\": 0.4853}\n",
      "{\"metric\": \"DICE\", \"value\": 0.6020}\n",
      "{\"metric\": \"RDICE\", \"value\": 0.0000}\n",
      "{\"metric\": \"Val. Loss\", \"value\": 0.4124}\n",
      "{\"metric\": \"Val. DICE\", \"value\": 0.5899}\n",
      "{\"metric\": \"Val. RDICE\", \"value\": 0.0000}\n",
      "updating best val loss...\n",
      "updating best val auc...\n",
      "\n",
      "Iteration 1400:\n",
      "{\"metric\": \"Loss\", \"value\": 0.4743}\n",
      "{\"metric\": \"DICE\", \"value\": 0.6020}\n",
      "{\"metric\": \"RDICE\", \"value\": 0.0000}\n",
      "{\"metric\": \"Val. Loss\", \"value\": 0.4054}\n",
      "{\"metric\": \"Val. DICE\", \"value\": 0.5966}\n",
      "{\"metric\": \"Val. RDICE\", \"value\": 0.0000}\n",
      "updating best val loss...\n",
      "updating best val auc...\n",
      "\n",
      "Iteration 1600:\n",
      "{\"metric\": \"Loss\", \"value\": 0.4646}\n",
      "{\"metric\": \"DICE\", \"value\": 0.6201}\n",
      "{\"metric\": \"RDICE\", \"value\": 0.0000}\n",
      "{\"metric\": \"Val. Loss\", \"value\": 0.3937}\n",
      "{\"metric\": \"Val. DICE\", \"value\": 0.6082}\n",
      "{\"metric\": \"Val. RDICE\", \"value\": 0.0000}\n",
      "updating best val loss...\n",
      "updating best val auc...\n",
      "\n",
      "Iteration 1800:\n",
      "{\"metric\": \"Loss\", \"value\": 0.4564}\n",
      "{\"metric\": \"DICE\", \"value\": 0.6211}\n",
      "{\"metric\": \"RDICE\", \"value\": 0.0000}\n",
      "{\"metric\": \"Val. Loss\", \"value\": 0.3906}\n",
      "{\"metric\": \"Val. DICE\", \"value\": 0.6111}\n",
      "{\"metric\": \"Val. RDICE\", \"value\": 0.0000}\n",
      "updating best val loss...\n",
      "updating best val auc...\n",
      "\n",
      "Iteration 1946:\n",
      "{\"metric\": \"Loss\", \"value\": 0.4512}\n",
      "{\"metric\": \"DICE\", \"value\": 0.6135}\n",
      "{\"metric\": \"RDICE\", \"value\": 0.0000}\n",
      "{\"metric\": \"Val. Loss\", \"value\": 0.3908}\n",
      "{\"metric\": \"Val. DICE\", \"value\": 0.6109}\n",
      "{\"metric\": \"Val. RDICE\", \"value\": 0.0000}\n",
      "\n",
      "Training complete in 1902 seconds.\n",
      "\n",
      "Each allocated and cached memory in cuda (will clean cache):\n",
      "600.086016M\n",
      "5800.722432M\n"
     ]
    }
   ],
   "source": [
    "n_iter = num_train_steps * grad_accumulation_steps\n",
    "print('Start training.')\n",
    "t0 = time.time()\n",
    "solver.train((train_loader, valid_loader), n_iter, t0)\n",
    "print('Training complete in {:.0f} seconds.'.format(time.time()-t0))\n",
    "\n",
    "print()\n",
    "print('Each allocated and cached memory in cuda (will clean cache):')\n",
    "print(str(torch.cuda.memory_allocated(device)/1e6 ) + 'M')\n",
    "print(str(torch.cuda.memory_cached(device)/1e6 ) + 'M')\n",
    "torch.cuda.empty_cache()"
   ]
  },
  {
   "cell_type": "code",
   "execution_count": 20,
   "metadata": {
    "execution": {
     "iopub.execute_input": "2020-11-03T09:48:35.781281Z",
     "iopub.status.busy": "2020-11-03T09:48:35.780513Z",
     "iopub.status.idle": "2020-11-03T09:48:36.018096Z",
     "shell.execute_reply": "2020-11-03T09:48:36.018757Z"
    },
    "papermill": {
     "duration": 0.300444,
     "end_time": "2020-11-03T09:48:36.018927",
     "exception": false,
     "start_time": "2020-11-03T09:48:35.718483",
     "status": "completed"
    },
    "tags": []
   },
   "outputs": [
    {
     "data": {
      "image/png": "[encoded data removed]",
      "text/plain": [
       "<Figure size 720x432 with 1 Axes>"
      ]
     },
     "metadata": {
      "needs_background": "light"
     },
     "output_type": "display_data"
    }
   ],
   "source": [
    "plt.figure(figsize=(10,6))\n",
    "plt.plot(solver.loss_history, marker='o', label=\"training loss\")\n",
    "plt.plot(solver.val_loss_history, marker='o', label=\"validation loss\")\n",
    "plt.ylabel('loss')\n",
    "plt.legend()\n",
    "plt.show()"
   ]
  },
  {
   "cell_type": "code",
   "execution_count": 21,
   "metadata": {
    "execution": {
     "iopub.execute_input": "2020-11-03T09:48:36.153977Z",
     "iopub.status.busy": "2020-11-03T09:48:36.152097Z",
     "iopub.status.idle": "2020-11-03T09:48:36.351614Z",
     "shell.execute_reply": "2020-11-03T09:48:36.352258Z"
    },
    "papermill": {
     "duration": 0.270597,
     "end_time": "2020-11-03T09:48:36.352446",
     "exception": false,
     "start_time": "2020-11-03T09:48:36.081849",
     "status": "completed"
    },
    "tags": []
   },
   "outputs": [
    {
     "data": {
      "image/png": "[encoded data removed]",
      "text/plain": [
       "<Figure size 720x432 with 1 Axes>"
      ]
     },
     "metadata": {
      "needs_background": "light"
     },
     "output_type": "display_data"
    }
   ],
   "source": [
    "plt.figure(figsize=(10,6))\n",
    "plt.plot(solver.dice_history, marker='o', label=\"training dice\")\n",
    "plt.plot(solver.val_dice_history, marker='o', label=\"validation dice\")\n",
    "plt.ylabel('dice')\n",
    "plt.legend()\n",
    "plt.show()"
   ]
  }
 ],
 "metadata": {
  "kernelspec": {
   "display_name": "Python 3",
   "language": "python",
   "name": "python3"
  },
  "language_info": {
   "codemirror_mode": {
    "name": "ipython",
    "version": 3
   },
   "file_extension": ".py",
   "mimetype": "text/x-python",
   "name": "python",
   "nbconvert_exporter": "python",
   "pygments_lexer": "ipython3",
   "version": "3.7.6"
  },
  "papermill": {
   "duration": 2206.911082,
   "end_time": "2020-11-03T09:48:37.559012",
   "environment_variables": {},
   "exception": null,
   "input_path": "__notebook__.ipynb",
   "output_path": "__notebook__.ipynb",
   "parameters": {},
   "start_time": "2020-11-03T09:11:50.647930",
   "version": "2.1.0"
  },
  "widgets": {
   "application/vnd.jupyter.widget-state+json": {
    "state": {
     "1bcd00e9e22542fcb9744e364f028184": {
      "model_module": "@jupyter-widgets/controls",
      "model_module_version": "1.5.0",
      "model_name": "HTMLModel",
      "state": {
       "_dom_classes": [],
       "_model_module": "@jupyter-widgets/controls",
       "_model_module_version": "1.5.0",
       "_model_name": "HTMLModel",
       "_view_count": null,
       "_view_module": "@jupyter-widgets/controls",
       "_view_module_version": "1.5.0",
       "_view_name": "HTMLView",
       "description": "",
       "description_tooltip": null,
       "layout": "IPY_MODEL_a640fcda900248bcb7895b080b2dcf84",
       "placeholder": "​",
       "style": "IPY_MODEL_3d84b1a0a2724999af6a1ca12f9ac7ed",
       "value": " 97.8M/97.8M [00:23&lt;00:00, 4.34MB/s]"
      }
     },
     "327784b17d6b4b209839eec6c5e56b58": {
      "model_module": "@jupyter-widgets/controls",
      "model_module_version": "1.5.0",
      "model_name": "FloatProgressModel",
      "state": {
       "_dom_classes": [],
       "_model_module": "@jupyter-widgets/controls",
       "_model_module_version": "1.5.0",
       "_model_name": "FloatProgressModel",
       "_view_count": null,
       "_view_module": "@jupyter-widgets/controls",
       "_view_module_version": "1.5.0",
       "_view_name": "ProgressView",
       "bar_style": "success",
       "description": "100%",
       "description_tooltip": null,
       "layout": "IPY_MODEL_f3158190c92e4f52b91af95a30c89a1e",
       "max": 102502400.0,
       "min": 0.0,
       "orientation": "horizontal",
       "style": "IPY_MODEL_b7481b20cf4e4226b2c145f52340d170",
       "value": 102502400.0
      }
     },
     "3d84b1a0a2724999af6a1ca12f9ac7ed": {
      "model_module": "@jupyter-widgets/controls",
      "model_module_version": "1.5.0",
      "model_name": "DescriptionStyleModel",
      "state": {
       "_model_module": "@jupyter-widgets/controls",
       "_model_module_version": "1.5.0",
       "_model_name": "DescriptionStyleModel",
       "_view_count": null,
       "_view_module": "@jupyter-widgets/base",
       "_view_module_version": "1.2.0",
       "_view_name": "StyleView",
       "description_width": ""
      }
     },
     "a640fcda900248bcb7895b080b2dcf84": {
      "model_module": "@jupyter-widgets/base",
      "model_module_version": "1.2.0",
      "model_name": "LayoutModel",
      "state": {
       "_model_module": "@jupyter-widgets/base",
       "_model_module_version": "1.2.0",
       "_model_name": "LayoutModel",
       "_view_count": null,
       "_view_module": "@jupyter-widgets/base",
       "_view_module_version": "1.2.0",
       "_view_name": "LayoutView",
       "align_content": null,
       "align_items": null,
       "align_self": null,
       "border": null,
       "bottom": null,
       "display": null,
       "flex": null,
       "flex_flow": null,
       "grid_area": null,
       "grid_auto_columns": null,
       "grid_auto_flow": null,
       "grid_auto_rows": null,
       "grid_column": null,
       "grid_gap": null,
       "grid_row": null,
       "grid_template_areas": null,
       "grid_template_columns": null,
       "grid_template_rows": null,
       "height": null,
       "justify_content": null,
       "justify_items": null,
       "left": null,
       "margin": null,
       "max_height": null,
       "max_width": null,
       "min_height": null,
       "min_width": null,
       "object_fit": null,
       "object_position": null,
       "order": null,
       "overflow": null,
       "overflow_x": null,
       "overflow_y": null,
       "padding": null,
       "right": null,
       "top": null,
       "visibility": null,
       "width": null
      }
     },
     "b7481b20cf4e4226b2c145f52340d170": {
      "model_module": "@jupyter-widgets/controls",
      "model_module_version": "1.5.0",
      "model_name": "ProgressStyleModel",
      "state": {
       "_model_module": "@jupyter-widgets/controls",
       "_model_module_version": "1.5.0",
       "_model_name": "ProgressStyleModel",
       "_view_count": null,
       "_view_module": "@jupyter-widgets/base",
       "_view_module_version": "1.2.0",
       "_view_name": "StyleView",
       "bar_color": null,
       "description_width": "initial"
      }
     },
     "deae50eb52024d17a6a0ca3119ca8ac8": {
      "model_module": "@jupyter-widgets/base",
      "model_module_version": "1.2.0",
      "model_name": "LayoutModel",
      "state": {
       "_model_module": "@jupyter-widgets/base",
       "_model_module_version": "1.2.0",
       "_model_name": "LayoutModel",
       "_view_count": null,
       "_view_module": "@jupyter-widgets/base",
       "_view_module_version": "1.2.0",
       "_view_name": "LayoutView",
       "align_content": null,
       "align_items": null,
       "align_self": null,
       "border": null,
       "bottom": null,
       "display": null,
       "flex": null,
       "flex_flow": null,
       "grid_area": null,
       "grid_auto_columns": null,
       "grid_auto_flow": null,
       "grid_auto_rows": null,
       "grid_column": null,
       "grid_gap": null,
       "grid_row": null,
       "grid_template_areas": null,
       "grid_template_columns": null,
       "grid_template_rows": null,
       "height": null,
       "justify_content": null,
       "justify_items": null,
       "left": null,
       "margin": null,
       "max_height": null,
       "max_width": null,
       "min_height": null,
       "min_width": null,
       "object_fit": null,
       "object_position": null,
       "order": null,
       "overflow": null,
       "overflow_x": null,
       "overflow_y": null,
       "padding": null,
       "right": null,
       "top": null,
       "visibility": null,
       "width": null
      }
     },
     "e84e611225a44b148af31f868b88c0d0": {
      "model_module": "@jupyter-widgets/controls",
      "model_module_version": "1.5.0",
      "model_name": "HBoxModel",
      "state": {
       "_dom_classes": [],
       "_model_module": "@jupyter-widgets/controls",
       "_model_module_version": "1.5.0",
       "_model_name": "HBoxModel",
       "_view_count": null,
       "_view_module": "@jupyter-widgets/controls",
       "_view_module_version": "1.5.0",
       "_view_name": "HBoxView",
       "box_style": "",
       "children": [
        "IPY_MODEL_327784b17d6b4b209839eec6c5e56b58",
        "IPY_MODEL_1bcd00e9e22542fcb9744e364f028184"
       ],
       "layout": "IPY_MODEL_deae50eb52024d17a6a0ca3119ca8ac8"
      }
     },
     "f3158190c92e4f52b91af95a30c89a1e": {
      "model_module": "@jupyter-widgets/base",
      "model_module_version": "1.2.0",
      "model_name": "LayoutModel",
      "state": {
       "_model_module": "@jupyter-widgets/base",
       "_model_module_version": "1.2.0",
       "_model_name": "LayoutModel",
       "_view_count": null,
       "_view_module": "@jupyter-widgets/base",
       "_view_module_version": "1.2.0",
       "_view_name": "LayoutView",
       "align_content": null,
       "align_items": null,
       "align_self": null,
       "border": null,
       "bottom": null,
       "display": null,
       "flex": null,
       "flex_flow": null,
       "grid_area": null,
       "grid_auto_columns": null,
       "grid_auto_flow": null,
       "grid_auto_rows": null,
       "grid_column": null,
       "grid_gap": null,
       "grid_row": null,
       "grid_template_areas": null,
       "grid_template_columns": null,
       "grid_template_rows": null,
       "height": null,
       "justify_content": null,
       "justify_items": null,
       "left": null,
       "margin": null,
       "max_height": null,
       "max_width": null,
       "min_height": null,
       "min_width": null,
       "object_fit": null,
       "object_position": null,
       "order": null,
       "overflow": null,
       "overflow_x": null,
       "overflow_y": null,
       "padding": null,
       "right": null,
       "top": null,
       "visibility": null,
       "width": null
      }
     }
    },
    "version_major": 2,
    "version_minor": 0
   }
  }
 },
 "nbformat": 4,
 "nbformat_minor": 4
}
