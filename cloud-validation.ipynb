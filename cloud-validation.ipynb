{
 "cells": [
  {
   "cell_type": "markdown",
   "metadata": {},
   "source": [
    "This kernel is forked from Andrew's Pytorch Kernel https://www.kaggle.com/artgor/segmentation-in-pytorch-using-convenient-tools\n",
    "\n",
    "I have done a couple things to speed things up and allow for larger models. The first one is that I <b>resized the dataset before hand so that we do not need to do this repetitively for each epoch</b>. This takes our epoch time down from ~23 minutes down to ~7 minutes using the same resnet 50 unet architecture. You can do whatever you like with this additional time, train more models, more epochs, larger backbones, etc. \n",
    "\n",
    "The second thing I have done is <b>add in nvidia apex so we can do mixed precision training</b>. This roughly halves memory usage on the GPU and allows us to fit larger models or larger batch sizes. \n",
    "\n",
    "This has allowed me to train the larger se_resnext101_32x4d backbone in a shorter amount of time while also getting a better score.  "
   ]
  },
  {
   "cell_type": "code",
   "execution_count": 1,
   "metadata": {
    "_kg_hide-output": true
   },
   "outputs": [
    {
     "name": "stdout",
     "output_type": "stream",
     "text": [
      "Collecting git+https://github.com/qubvel/segmentation_models.pytorch\r\n",
      "  Cloning https://github.com/qubvel/segmentation_models.pytorch to /tmp/pip-req-build-vz9k9tje\r\n",
      "  Running command git clone -q https://github.com/qubvel/segmentation_models.pytorch /tmp/pip-req-build-vz9k9tje\r\n",
      "Requirement already satisfied: torchvision<=0.4.0,>=0.2.2 in /opt/conda/lib/python3.6/site-packages (from segmentation-models-pytorch==0.0.3) (0.4.0a0+6b959ee)\r\n",
      "Collecting pretrainedmodels==0.7.4 (from segmentation-models-pytorch==0.0.3)\r\n",
      "\u001b[?25l  Downloading https://files.pythonhosted.org/packages/84/0e/be6a0e58447ac16c938799d49bfb5fb7a80ac35e137547fc6cee2c08c4cf/pretrainedmodels-0.7.4.tar.gz (58kB)\r\n",
      "\u001b[K     |████████████████████████████████| 61kB 2.4MB/s \r\n",
      "\u001b[?25hCollecting efficientnet-pytorch==0.4.0 (from segmentation-models-pytorch==0.0.3)\r\n",
      "  Downloading https://files.pythonhosted.org/packages/12/f8/35453605c6c471fc406a137a894fb381b05ae9f174b2ca4956592512374e/efficientnet_pytorch-0.4.0.tar.gz\r\n",
      "Requirement already satisfied: numpy in /opt/conda/lib/python3.6/site-packages (from torchvision<=0.4.0,>=0.2.2->segmentation-models-pytorch==0.0.3) (1.16.4)\r\n",
      "Requirement already satisfied: six in /opt/conda/lib/python3.6/site-packages (from torchvision<=0.4.0,>=0.2.2->segmentation-models-pytorch==0.0.3) (1.12.0)\r\n",
      "Requirement already satisfied: torch in /opt/conda/lib/python3.6/site-packages (from torchvision<=0.4.0,>=0.2.2->segmentation-models-pytorch==0.0.3) (1.2.0)\r\n",
      "Requirement already satisfied: pillow>=4.1.1 in /opt/conda/lib/python3.6/site-packages (from torchvision<=0.4.0,>=0.2.2->segmentation-models-pytorch==0.0.3) (5.4.1)\r\n",
      "Requirement already satisfied: munch in /opt/conda/lib/python3.6/site-packages (from pretrainedmodels==0.7.4->segmentation-models-pytorch==0.0.3) (2.3.2)\r\n",
      "Requirement already satisfied: tqdm in /opt/conda/lib/python3.6/site-packages (from pretrainedmodels==0.7.4->segmentation-models-pytorch==0.0.3) (4.32.1)\r\n",
      "Building wheels for collected packages: segmentation-models-pytorch, pretrainedmodels, efficientnet-pytorch\r\n",
      "  Building wheel for segmentation-models-pytorch (setup.py) ... \u001b[?25l-\b \b\\\b \b|\b \bdone\r\n",
      "\u001b[?25h  Created wheel for segmentation-models-pytorch: filename=segmentation_models_pytorch-0.0.3-cp36-none-any.whl size=30054 sha256=f075424ad2664efcfcc67b631913d0014d34a4f1799014ca1503c5e9992f224a\r\n",
      "  Stored in directory: /tmp/pip-ephem-wheel-cache-wqqiknxv/wheels/79/3f/09/1587a252e0314d26ad242d6d2e165622ab95c95e5cfe4b942c\r\n",
      "  Building wheel for pretrainedmodels (setup.py) ... \u001b[?25l-\b \b\\\b \bdone\r\n",
      "\u001b[?25h  Created wheel for pretrainedmodels: filename=pretrainedmodels-0.7.4-cp36-none-any.whl size=60963 sha256=49902f15a8461f92d707286205120d5fe41b60023099033af4e21435d49e5bae\r\n",
      "  Stored in directory: /tmp/.cache/pip/wheels/69/df/63/62583c096289713f22db605aa2334de5b591d59861a02c2ecd\r\n",
      "  Building wheel for efficientnet-pytorch (setup.py) ... \u001b[?25l-\b \b\\\b \bdone\r\n",
      "\u001b[?25h  Created wheel for efficientnet-pytorch: filename=efficientnet_pytorch-0.4.0-cp36-none-any.whl size=11149 sha256=f89ce86187c9c04536fd3b7e3b02c446874614a4187d725f7cfd5f3d32e9b8c8\r\n",
      "  Stored in directory: /tmp/.cache/pip/wheels/27/56/13/5bdaa98ca8bd7d5da65cc741987dd14391b87fa1a09081d17a\r\n",
      "Successfully built segmentation-models-pytorch pretrainedmodels efficientnet-pytorch\r\n",
      "Installing collected packages: pretrainedmodels, efficientnet-pytorch, segmentation-models-pytorch\r\n",
      "Successfully installed efficientnet-pytorch-0.4.0 pretrainedmodels-0.7.4 segmentation-models-pytorch-0.0.3\r\n",
      "\u001b[33mWARNING: You are using pip version 19.2.3, however version 19.3.1 is available.\r\n",
      "You should consider upgrading via the 'pip install --upgrade pip' command.\u001b[0m\r\n"
     ]
    }
   ],
   "source": [
    "!pip install git+https://github.com/qubvel/segmentation_models.pytorch"
   ]
  },
  {
   "cell_type": "markdown",
   "metadata": {},
   "source": [
    "## Importing and parameters"
   ]
  },
  {
   "cell_type": "code",
   "execution_count": 2,
   "metadata": {
    "_cell_guid": "b1076dfc-b9ad-4769-8c92-a6c4dae69d19",
    "_kg_hide-input": true,
    "_kg_hide-output": true,
    "_uuid": "8f2839f25d086af736a60e9eeb907d3b93b6e0e5"
   },
   "outputs": [],
   "source": [
    "import os, gc, time, json, copy\n",
    "import pickle, random, itertools, collections\n",
    "from tqdm import tqdm, tqdm_notebook\n",
    "from functools import partial\n",
    "\n",
    "import numpy as np\n",
    "import pandas as pd\n",
    "from PIL import Image\n",
    "import cv2\n",
    "\n",
    "from sklearn.model_selection import KFold, StratifiedKFold, train_test_split\n",
    "from sklearn.metrics import roc_auc_score\n",
    "\n",
    "import torch\n",
    "import torch.nn as nn\n",
    "import torch.nn.functional as F\n",
    "import torch.optim as optim\n",
    "from torch.optim import lr_scheduler\n",
    "from torch.utils.data import TensorDataset, DataLoader, Dataset\n",
    "from torch.utils.data.sampler import SubsetRandomSampler\n",
    "from torch.optim.lr_scheduler import StepLR, ReduceLROnPlateau, CosineAnnealingLR\n",
    "\n",
    "import albumentations as albu\n",
    "from albumentations import pytorch as AT\n",
    "import segmentation_models_pytorch as smp\n",
    "\n",
    "import matplotlib.pyplot as plt\n",
    "import seaborn as sns\n",
    "%matplotlib inline"
   ]
  },
  {
   "cell_type": "code",
   "execution_count": 3,
   "metadata": {},
   "outputs": [],
   "source": [
    "device = torch.device(\"cuda\" if torch.cuda.is_available() else \"cpu\")\n",
    "SEED = 2019\n",
    "\n",
    "label_classes = [\"Fish\", \"Flower\", \"Gravel\", \"Sugar\"]\n",
    "\n",
    "path = '../input/understanding_cloud_organization'\n",
    "img_paths = '../input/understanding-clouds-resized'\n",
    "model0_path = '../input/cloud-im-small/'\n",
    "model1_path = '../input/cld-rn50-unet-1/'\n",
    "model2_path = '../input/cld-rn50-unet-2/'\n",
    "model3_path = '../input/cld-rn50-unet-3/'\n",
    "model4_path = '../input/cld-rn50-unet-4/'\n",
    "model_paths = [model0_path, model1_path, model2_path, model3_path, model4_path]\n",
    "\n",
    "n_splits = 5\n",
    "which_fold = 4  # should be int in [0, n_splits-1]\n",
    "\n",
    "batch_size = 16"
   ]
  },
  {
   "cell_type": "markdown",
   "metadata": {},
   "source": [
    "## Helper functions and classes"
   ]
  },
  {
   "cell_type": "code",
   "execution_count": 4,
   "metadata": {
    "_kg_hide-input": true
   },
   "outputs": [],
   "source": [
    "sigmoid = lambda x: 1 / (1 + np.exp(-x))\n",
    "\n",
    "def seed_torch(seed=SEED):\n",
    "    torch.manual_seed(seed)\n",
    "    torch.cuda.manual_seed(seed)\n",
    "    torch.backends.cudnn.deterministic = True\n",
    "\n",
    "def get_img(x, folder: str='train_images_525/train_images_525'):\n",
    "    \"\"\"\n",
    "    Return image based on image name and folder.\n",
    "    \"\"\"\n",
    "    data_folder = f\"{img_paths}/{folder}\"\n",
    "    image_path = os.path.join(data_folder, x)\n",
    "    img = cv2.imread(image_path)\n",
    "    img = cv2.cvtColor(img, cv2.COLOR_BGR2RGB)\n",
    "    return img\n",
    "\n",
    "def rle_decode(mask_rle: str = '', shape: tuple = (1400, 2100)):\n",
    "    \"\"\"\n",
    "    Decode rle encoded mask.\n",
    "    \n",
    "    :param mask_rle: run-length as string formatted (start length)\n",
    "    :param shape: (height, width) of array to return \n",
    "    Returns numpy array, 1 - mask, 0 - background\n",
    "    \"\"\"\n",
    "    s = mask_rle.split()\n",
    "    starts, lengths = [np.asarray(x, dtype=int) for x in (s[0:][::2], s[1:][::2])]\n",
    "    starts -= 1\n",
    "    ends = starts + lengths\n",
    "    img = np.zeros(shape[0] * shape[1], dtype=np.uint8)\n",
    "    for lo, hi in zip(starts, ends):\n",
    "        img[lo:hi] = 1\n",
    "    return img.reshape(shape, order='F')\n",
    "\n",
    "def make_mask(image_name: str='img.jpg', shape: tuple=(350, 525)):\n",
    "    \"Create mask (ndarray, values between 0-1) based on image name and shape.\"\n",
    "    masks = np.zeros((shape[0], shape[1], 4), dtype=np.float32)\n",
    "    for classidx, classid in enumerate(label_classes):\n",
    "        mask = cv2.imread(\"../input/understanding-clouds-resized/train_masks_525/train_masks_525/\" + classid + image_name)\n",
    "        if mask is None:\n",
    "            continue\n",
    "        if mask[:,:,0].shape != (350,525):\n",
    "            mask = cv2.resize(mask, (525,350))\n",
    "        masks[:, :, classidx] = mask[:,:,0]\n",
    "    masks = masks / 255\n",
    "    return masks\n",
    "\n",
    "def mask2rle(img):\n",
    "    \"\"\"\n",
    "    Convert mask to rle.\n",
    "    img: numpy array, 1 - mask, 0 - background\n",
    "    Returns run length as string formated\n",
    "    \"\"\"\n",
    "    pixels= img.T.flatten()\n",
    "    pixels = np.concatenate([[0], pixels, [0]])\n",
    "    runs = np.where(pixels[1:] != pixels[:-1])[0] + 1\n",
    "    runs[1::2] -= runs[::2]\n",
    "    return ' '.join(str(x) for x in runs)\n",
    "\n",
    "\n",
    "def visualize(image, mask, original_image=None, original_mask=None):\n",
    "    \"\"\"\n",
    "    Plot images and masks.\n",
    "    \n",
    "    Input\n",
    "    - image: ndarray image loaded from cv2\n",
    "    - mask: ndarray output from make_mask\n",
    "    - original ones: If given, show them all\n",
    "    \"\"\"\n",
    "    fontsize = 14\n",
    "    class_dict = {0: 'Fish', 1: 'Flower', 2: 'Gravel', 3: 'Sugar'}\n",
    "    \n",
    "    if original_image is None and original_mask is None:\n",
    "        f, ax = plt.subplots(1, 5, figsize=(24, 24))\n",
    "\n",
    "        ax[0].imshow(image)\n",
    "        for i in range(4):\n",
    "            ax[i + 1].imshow(mask[:, :, i])\n",
    "            ax[i + 1].set_title(f'Mask {class_dict[i]}', fontsize=fontsize)\n",
    "    else:\n",
    "        f, ax = plt.subplots(2, 5, figsize=(24, 12))\n",
    "\n",
    "        ax[0, 0].imshow(original_image)\n",
    "        ax[0, 0].set_title('Original image', fontsize=fontsize)\n",
    "                \n",
    "        for i in range(4):\n",
    "            ax[0, i + 1].imshow(original_mask[:, :, i])\n",
    "            ax[0, i + 1].set_title(f'Original mask {class_dict[i]}', fontsize=fontsize)\n",
    "        \n",
    "        ax[1, 0].imshow(image)\n",
    "        ax[1, 0].set_title('Transformed image', fontsize=fontsize)        \n",
    "        \n",
    "        for i in range(4):\n",
    "            ax[1, i + 1].imshow(mask[:, :, i])\n",
    "            ax[1, i + 1].set_title(f'Transformed mask {class_dict[i]}', fontsize=fontsize)\n",
    "            \n",
    "            \n",
    "def visualize_with_raw(image, mask, original_image=None, original_mask=None, raw_image=None, raw_mak=None):\n",
    "    \"\"\"\n",
    "    Plot images and masks.\n",
    "    \n",
    "    Input\n",
    "    - image: ndarray image loaded from cv2\n",
    "    - mask: ndarray output from make_mask\n",
    "    - original ones / raw ones: If given, show them all\n",
    "    \"\"\"\n",
    "    fontsize = 14\n",
    "    class_dict = {0: 'Fish', 1: 'Flower', 2: 'Gravel', 3: 'Sugar'}\n",
    "\n",
    "    f, ax = plt.subplots(3, 5, figsize=(24, 12))\n",
    "\n",
    "    ax[0, 0].imshow(original_image)\n",
    "    ax[0, 0].set_title('Original image', fontsize=fontsize)\n",
    "\n",
    "    for i in range(4):\n",
    "        ax[0, i + 1].imshow(original_mask[:, :, i])\n",
    "        ax[0, i + 1].set_title(f'Original mask {class_dict[i]}', fontsize=fontsize)\n",
    "\n",
    "    ax[1, 0].imshow(raw_image)\n",
    "    ax[1, 0].set_title('Original image', fontsize=fontsize)\n",
    "\n",
    "    for i in range(4):\n",
    "        ax[1, i + 1].imshow(raw_mak[:, :, i])\n",
    "        ax[1, i + 1].set_title(f'Raw predicted mask {class_dict[i]}', fontsize=fontsize)\n",
    "        \n",
    "    ax[2, 0].imshow(image)\n",
    "    ax[2, 0].set_title('Transformed image', fontsize=fontsize)\n",
    "\n",
    "    for i in range(4):\n",
    "        ax[2, i + 1].imshow(mask[:, :, i])\n",
    "        ax[2, i + 1].set_title(f'Predicted mask with processing {class_dict[i]}', fontsize=fontsize)\n",
    "            \n",
    "            \n",
    "def plot_with_augmentation(image, mask, augment):\n",
    "    \"\"\"\n",
    "    Plot images, masks and augmentation results.\n",
    "    \n",
    "    Input\n",
    "    - image: ndarray image loaded from cv2\n",
    "    - mask: ndarray output from make_mask\n",
    "    - augment: transformation from albumentations\n",
    "    \"\"\"\n",
    "    augmented = augment(image=image, mask=mask)\n",
    "    image_flipped = augmented['image']\n",
    "    mask_flipped = augmented['mask']\n",
    "    visualize(image_flipped, mask_flipped, original_image=image, original_mask=mask)\n",
    "\n",
    "\n",
    "def post_process(probability, threshold, min_size):\n",
    "    \"\"\"\n",
    "    Post processing of each predicted mask, components with lesser number of pixels\n",
    "    than `min_size` are ignored\n",
    "    \n",
    "    Input\n",
    "    - probability: predicted probability mask, ndarray (350, 525)\n",
    "    - threshold: value to binarize probability mask\n",
    "    - min_size: ??\n",
    "    \"\"\"\n",
    "    mask = cv2.threshold(probability, threshold, 1, cv2.THRESH_BINARY)[1]\n",
    "    num_component, component = cv2.connectedComponents(mask.astype(np.uint8))\n",
    "    predictions = np.zeros((350, 525), np.float32)\n",
    "    num = 0\n",
    "    for c in range(1, num_component):\n",
    "        p = (component == c)\n",
    "        if p.sum() > min_size:\n",
    "            predictions[p] = 1\n",
    "            num += 1\n",
    "    return predictions, num\n",
    "\n",
    "\n",
    "def get_validation_augmentation():\n",
    "    \"\"\"Add paddings to make image shape divisible by 32\"\"\"\n",
    "    test_transform = [\n",
    "        albu.Resize(256, 384)\n",
    "#         albu.Resize(320, 640)\n",
    "#         albu.Resize(448, 448)\n",
    "    ]\n",
    "    return albu.Compose(test_transform)\n",
    "\n",
    "def to_tensor(x, **kwargs):\n",
    "    \"\"\"\n",
    "    Convert image or mask.\n",
    "    \"\"\"\n",
    "    return x.transpose(2, 0, 1).astype('float32')\n",
    "\n",
    "def get_preprocessing(preprocessing_fn):\n",
    "    \"\"\"Construct preprocessing transform\n",
    "    \n",
    "    Args:\n",
    "        preprocessing_fn (callbale): data normalization function \n",
    "            (can be specific for each pretrained neural network)\n",
    "    Return:\n",
    "        transform: albumentations.Compose\n",
    "    \n",
    "    \"\"\"\n",
    "    _transform = [\n",
    "        albu.Lambda(image=preprocessing_fn),\n",
    "        albu.Lambda(image=to_tensor, mask=to_tensor),\n",
    "    ]\n",
    "    return albu.Compose(_transform)\n",
    "\n",
    "\n",
    "def compute_dice(img1, img2):\n",
    "    img1 = np.asarray(img1).astype(np.bool)\n",
    "    img2 = np.asarray(img2).astype(np.bool)\n",
    "\n",
    "    intersection = np.logical_and(img1, img2)\n",
    "\n",
    "    return 2. * intersection.sum() / (img1.sum() + img2.sum())"
   ]
  },
  {
   "cell_type": "markdown",
   "metadata": {},
   "source": [
    "## Data overview\n",
    "\n",
    "Let's have a look at the data first.\n",
    "We have folders with train and test images, file with train image ids and masks and sample submission."
   ]
  },
  {
   "cell_type": "code",
   "execution_count": 5,
   "metadata": {},
   "outputs": [],
   "source": [
    "train = pd.read_csv(f'{path}/train.csv')\n",
    "sub = pd.read_csv(f'{path}/sample_submission.csv')"
   ]
  },
  {
   "cell_type": "code",
   "execution_count": 6,
   "metadata": {},
   "outputs": [
    {
     "name": "stdout",
     "output_type": "stream",
     "text": [
      "There are 5546 images in train dataset\n",
      "There are 3698 images in test dataset\n"
     ]
    }
   ],
   "source": [
    "n_train = len(os.listdir(f'{img_paths}/train_images_525/train_images_525'))\n",
    "n_test = len(os.listdir(f'{img_paths}/test_images_525/test_images_525'))\n",
    "print(f'There are {n_train} images in train dataset')\n",
    "print(f'There are {n_test} images in test dataset')"
   ]
  },
  {
   "cell_type": "markdown",
   "metadata": {},
   "source": [
    "## Preparing data for modelling\n",
    "\n",
    "At first, let's create a list of unique image ids and the count of masks for images. This will allow us to make a stratified split based on this count."
   ]
  },
  {
   "cell_type": "code",
   "execution_count": 7,
   "metadata": {},
   "outputs": [],
   "source": [
    "def train_val_split(id_mask_count, n_splits=None, which_fold=None):\n",
    "    kf = StratifiedKFold(n_splits=n_splits, shuffle=True, random_state=SEED)\n",
    "    cv_indices = [(tr_idx, val_idx) for tr_idx, val_idx in kf.split(id_mask_count['img_id'], id_mask_count['count'])]\n",
    "    if which_fold is not None:\n",
    "        return cv_indices[which_fold]\n",
    "    return cv_indices"
   ]
  },
  {
   "cell_type": "code",
   "execution_count": 8,
   "metadata": {},
   "outputs": [],
   "source": [
    "id_mask_count = (train.loc[~train['EncodedPixels'].isnull(), 'Image_Label']\n",
    "                    .apply(lambda x: x.split('_')[0])\n",
    "                    .value_counts()\n",
    "                    .reset_index()\n",
    "                    .rename(columns={'index': 'img_id', 'Image_Label': 'count'}))\n",
    "\n",
    "trn_idx, val_idx = train_val_split(id_mask_count, n_splits, which_fold)\n",
    "train_ids, valid_ids = id_mask_count['img_id'].values[trn_idx], id_mask_count['img_id'].values[val_idx]\n",
    "test_ids = sub['Image_Label'].apply(lambda x: x.split('_')[0]).drop_duplicates().values"
   ]
  },
  {
   "cell_type": "code",
   "execution_count": 9,
   "metadata": {},
   "outputs": [],
   "source": [
    "# val_ids = [id_mask_count['img_id'].values[train_val_split(id_mask_count, n_splits, i)[1]]\n",
    "#            for i in range(n_splits)]\n",
    "\n",
    "# with open('val_ids.pkl', 'wb') as f:\n",
    "#     pickle.dump(val_ids, f)\n",
    "    \n",
    "# with open('test_ids.pkl', 'wb') as f:\n",
    "#     pickle.dump(test_ids, f)"
   ]
  },
  {
   "cell_type": "code",
   "execution_count": 10,
   "metadata": {},
   "outputs": [
    {
     "data": {
      "text/plain": [
       "array(['45855f6.jpg', '476b209.jpg', 'f1e8c3f.jpg', '607635f.jpg',\n",
       "       'cc768f0.jpg', 'cd807f8.jpg', '3a1d51d.jpg', 'efe1652.jpg',\n",
       "       'ff38d0a.jpg', '2f1f439.jpg', '46c4c72.jpg', '562f80a.jpg',\n",
       "       '7639280.jpg', 'eba901f.jpg', '766616a.jpg'], dtype=object)"
      ]
     },
     "execution_count": 10,
     "metadata": {},
     "output_type": "execute_result"
    }
   ],
   "source": [
    "valid_ids[:15]"
   ]
  },
  {
   "cell_type": "code",
   "execution_count": 11,
   "metadata": {},
   "outputs": [
    {
     "data": {
      "text/plain": [
       "(4438, 1108)"
      ]
     },
     "execution_count": 11,
     "metadata": {},
     "output_type": "execute_result"
    }
   ],
   "source": [
    "len(train_ids), len(valid_ids)"
   ]
  },
  {
   "cell_type": "code",
   "execution_count": 12,
   "metadata": {},
   "outputs": [
    {
     "data": {
      "text/html": [
       "<div>\n",
       "<style scoped>\n",
       "    .dataframe tbody tr th:only-of-type {\n",
       "        vertical-align: middle;\n",
       "    }\n",
       "\n",
       "    .dataframe tbody tr th {\n",
       "        vertical-align: top;\n",
       "    }\n",
       "\n",
       "    .dataframe thead th {\n",
       "        text-align: right;\n",
       "    }\n",
       "</style>\n",
       "<table border=\"1\" class=\"dataframe\">\n",
       "  <thead>\n",
       "    <tr style=\"text-align: right;\">\n",
       "      <th></th>\n",
       "      <th>img_id</th>\n",
       "      <th>count</th>\n",
       "    </tr>\n",
       "  </thead>\n",
       "  <tbody>\n",
       "    <tr>\n",
       "      <td>0</td>\n",
       "      <td>fd02ab6.jpg</td>\n",
       "      <td>4</td>\n",
       "    </tr>\n",
       "    <tr>\n",
       "      <td>1</td>\n",
       "      <td>5526689.jpg</td>\n",
       "      <td>4</td>\n",
       "    </tr>\n",
       "    <tr>\n",
       "      <td>2</td>\n",
       "      <td>1c25e19.jpg</td>\n",
       "      <td>4</td>\n",
       "    </tr>\n",
       "    <tr>\n",
       "      <td>3</td>\n",
       "      <td>b01c91f.jpg</td>\n",
       "      <td>4</td>\n",
       "    </tr>\n",
       "    <tr>\n",
       "      <td>4</td>\n",
       "      <td>92865e2.jpg</td>\n",
       "      <td>4</td>\n",
       "    </tr>\n",
       "    <tr>\n",
       "      <td>...</td>\n",
       "      <td>...</td>\n",
       "      <td>...</td>\n",
       "    </tr>\n",
       "    <tr>\n",
       "      <td>5541</td>\n",
       "      <td>0fe3fd9.jpg</td>\n",
       "      <td>1</td>\n",
       "    </tr>\n",
       "    <tr>\n",
       "      <td>5542</td>\n",
       "      <td>ac1e24e.jpg</td>\n",
       "      <td>1</td>\n",
       "    </tr>\n",
       "    <tr>\n",
       "      <td>5543</td>\n",
       "      <td>0799206.jpg</td>\n",
       "      <td>1</td>\n",
       "    </tr>\n",
       "    <tr>\n",
       "      <td>5544</td>\n",
       "      <td>a8f84e0.jpg</td>\n",
       "      <td>1</td>\n",
       "    </tr>\n",
       "    <tr>\n",
       "      <td>5545</td>\n",
       "      <td>7ef40fc.jpg</td>\n",
       "      <td>1</td>\n",
       "    </tr>\n",
       "  </tbody>\n",
       "</table>\n",
       "<p>5546 rows × 2 columns</p>\n",
       "</div>"
      ],
      "text/plain": [
       "           img_id  count\n",
       "0     fd02ab6.jpg      4\n",
       "1     5526689.jpg      4\n",
       "2     1c25e19.jpg      4\n",
       "3     b01c91f.jpg      4\n",
       "4     92865e2.jpg      4\n",
       "...           ...    ...\n",
       "5541  0fe3fd9.jpg      1\n",
       "5542  ac1e24e.jpg      1\n",
       "5543  0799206.jpg      1\n",
       "5544  a8f84e0.jpg      1\n",
       "5545  7ef40fc.jpg      1\n",
       "\n",
       "[5546 rows x 2 columns]"
      ]
     },
     "execution_count": 12,
     "metadata": {},
     "output_type": "execute_result"
    }
   ],
   "source": [
    "id_mask_count"
   ]
  },
  {
   "cell_type": "code",
   "execution_count": 13,
   "metadata": {},
   "outputs": [
    {
     "data": {
      "text/plain": [
       "2    2372\n",
       "3    1560\n",
       "1    1348\n",
       "4     266\n",
       "Name: count, dtype: int64"
      ]
     },
     "execution_count": 13,
     "metadata": {},
     "output_type": "execute_result"
    }
   ],
   "source": [
    "id_mask_count['count'].value_counts()"
   ]
  },
  {
   "cell_type": "markdown",
   "metadata": {},
   "source": [
    "There are a lot of empty masks. In fact only 266 images have all four masks. It is important to remember this."
   ]
  },
  {
   "cell_type": "markdown",
   "metadata": {},
   "source": [
    "## Setting up data loader, model, solver"
   ]
  },
  {
   "cell_type": "code",
   "execution_count": 14,
   "metadata": {},
   "outputs": [],
   "source": [
    "class CloudDataset(Dataset):\n",
    "    def __init__(self, dataset_type: str='train', img_ids: np.array=None,\n",
    "                 transforms=albu.Compose([albu.HorizontalFlip(), AT.ToTensor()]),\n",
    "                 preprocessing=None, label_smooth=0):\n",
    "        self.dataset_type = dataset_type\n",
    "        if dataset_type != 'test':\n",
    "            self.data_folder = f\"{img_paths}/train_images_525/train_images_525\"\n",
    "        else:\n",
    "            self.data_folder = f\"{img_paths}/test_images_525/test_images_525\"\n",
    "        self.img_ids = img_ids\n",
    "        self.transforms = transforms\n",
    "        self.preprocessing = preprocessing\n",
    "        self.label_smooth = label_smooth\n",
    "\n",
    "    def __getitem__(self, idx):\n",
    "        image_name = self.img_ids[idx]\n",
    "        mask = make_mask(image_name)\n",
    "        img = cv2.imread(os.path.join(self.data_folder, image_name))\n",
    "        img = cv2.cvtColor(img, cv2.COLOR_BGR2RGB)\n",
    "        augmented = self.transforms(image=img, mask=mask)\n",
    "        img = augmented['image']\n",
    "        mask = augmented['mask']\n",
    "        if self.label_smooth > 0:\n",
    "            mask = np.where(mask==1, 1-label_smooth, label_smooth).astype('float32')\n",
    "        if self.preprocessing:\n",
    "            preprocessed = self.preprocessing(image=img, mask=mask)\n",
    "            img = preprocessed['image']\n",
    "            mask = preprocessed['mask']\n",
    "        return img, mask\n",
    "\n",
    "    def __len__(self):\n",
    "        return len(self.img_ids)"
   ]
  },
  {
   "cell_type": "code",
   "execution_count": 15,
   "metadata": {},
   "outputs": [
    {
     "data": {
      "text/plain": [
       "<All keys matched successfully>"
      ]
     },
     "execution_count": 15,
     "metadata": {},
     "output_type": "execute_result"
    }
   ],
   "source": [
    "ENCODER = 'resnet50'\n",
    "ENCODER_WEIGHTS = None\n",
    "ACTIVATION = None\n",
    "\n",
    "preprocessing_fn = smp.encoders.get_preprocessing_fn(ENCODER)\n",
    "\n",
    "model = smp.Unet(\n",
    "    encoder_name=ENCODER, \n",
    "    encoder_weights=ENCODER_WEIGHTS, \n",
    "    classes=4, \n",
    "    activation=ACTIVATION\n",
    ")\n",
    "model = model.to(device)\n",
    "model.load_state_dict(torch.load(model_paths[which_fold]+'best_model_optim.pt')['model'])"
   ]
  },
  {
   "cell_type": "code",
   "execution_count": 16,
   "metadata": {},
   "outputs": [
    {
     "name": "stdout",
     "output_type": "stream",
     "text": [
      "131.664384M\n",
      "555.74528M\n"
     ]
    }
   ],
   "source": [
    "print(str(torch.cuda.memory_allocated(device)/1e6 ) + 'M')\n",
    "print(str(torch.cuda.memory_cached(device)/1e6 ) + 'M')\n",
    "torch.cuda.empty_cache()"
   ]
  },
  {
   "cell_type": "code",
   "execution_count": 17,
   "metadata": {},
   "outputs": [
    {
     "name": "stderr",
     "output_type": "stream",
     "text": [
      "/opt/conda/lib/python3.6/site-packages/albumentations/augmentations/transforms.py:2567: UserWarning: Using lambda is incompatible with multiprocessing. Consider using regular functions or partial().\n",
      "  warnings.warn('Using lambda is incompatible with multiprocessing. '\n"
     ]
    }
   ],
   "source": [
    "valid_dataset = CloudDataset(dataset_type='valid', img_ids=valid_ids,\n",
    "                             transforms=get_validation_augmentation(),\n",
    "                             preprocessing=get_preprocessing(preprocessing_fn))\n",
    "\n",
    "valid_loader = DataLoader(valid_dataset, batch_size=batch_size, shuffle=False, num_workers=2)"
   ]
  },
  {
   "cell_type": "markdown",
   "metadata": {},
   "source": [
    "## Model inference"
   ]
  },
  {
   "cell_type": "code",
   "execution_count": 18,
   "metadata": {},
   "outputs": [],
   "source": [
    "def get_preds(loader, model, dataset_type='test'):\n",
    "    \"\"\"\n",
    "    Inference for testset.\n",
    "\n",
    "    :param loader: DataLoader for testing data\n",
    "    :param model: model\n",
    "    :param dataset_type: dataset type\n",
    "\n",
    "    :return: ndarray predictions\n",
    "    \"\"\"\n",
    "    assert dataset_type in ('val', 'test')\n",
    "    model.eval()  # eval mode disables dropout\n",
    "\n",
    "    if dataset_type=='val':\n",
    "        label_masks = []\n",
    "    predictions = []\n",
    "    with torch.no_grad():\n",
    "        # Batches\n",
    "        for images, masks in tqdm_notebook(loader):\n",
    "            if dataset_type=='val': \n",
    "                for m in masks.view(-1, 256, 384).numpy():\n",
    "#                 for m in masks.view(-1, 320, 640).numpy():\n",
    "#                 for m in masks.view(-1, 448, 448).numpy():\n",
    "                    m = cv2.resize(m, dsize=(525, 350), interpolation=cv2.INTER_LINEAR)\n",
    "                    label_masks.append(m)\n",
    "\n",
    "            # Move to default device\n",
    "            images = images.to(device)  # (N, 3, 320, 640)\n",
    "\n",
    "            # Forward prop.\n",
    "            pred_scores = model(images)  # (N, 4, 320, 640)\n",
    "            pred_scores = pred_scores.view(-1, 256, 384)\n",
    "#             pred_scores = pred_scores.view(-1, 320, 640)  # (N*4, 320, 640)\n",
    "#             pred_scores = pred_scores.view(-1, 448, 448)  # (N*4, 320, 640)\n",
    "\n",
    "            for m in torch.sigmoid(pred_scores).cpu().numpy():\n",
    "                m = cv2.resize(m, dsize=(525, 350), interpolation=cv2.INTER_LINEAR)\n",
    "                predictions.append(m)\n",
    "    torch.cuda.empty_cache()\n",
    "\n",
    "    if dataset_type=='val':\n",
    "        return predictions, label_masks\n",
    "    return predictions"
   ]
  },
  {
   "cell_type": "code",
   "execution_count": 19,
   "metadata": {},
   "outputs": [],
   "source": [
    "class Rot90(object):\n",
    "    \"\"\"rotate batch of images by 90 degrees k times\"\"\"\n",
    "    def __init__(self, k=1):\n",
    "        self.k = k\n",
    "    def transform(self, x):\n",
    "        return torch.rot90(x, self.k, (2, 3))\n",
    "    def inverse(self, x):\n",
    "        return torch.rot90(x, -self.k, (2, 3))\n",
    "\n",
    "class Hflip(object):\n",
    "    \"\"\"flip batch of images horizontally\"\"\"\n",
    "    def transform(self, x):\n",
    "        return x.flip(3)\n",
    "    def inverse(self, x):\n",
    "        return x.flip(3)\n",
    "\n",
    "class Vflip(object):\n",
    "    \"\"\"flip batch of images vertically\"\"\"\n",
    "    def transform(self, x):\n",
    "        return x.flip(2)\n",
    "    def inverse(self, x):\n",
    "        return x.flip(2)\n",
    "\n",
    "def TTA(loader, model, dataset_type='test', beta=0.4):\n",
    "    \"\"\"\n",
    "    Inference for testset with test-time augmentation (TTA).\n",
    "\n",
    "    :param loader: DataLoader for testing data\n",
    "    :param model: model\n",
    "    :param dataset_type: dataset type\n",
    "    :param beta: ratio of prediction from original dataset in final results\n",
    "\n",
    "    :return: ndarray predictions\n",
    "    \"\"\"\n",
    "    assert dataset_type in ('val', 'test')\n",
    "    model.eval()  # eval mode disables dropout\n",
    "    tsfms = [Vflip(), Hflip(), Rot90(k=1), Rot90(k=2), Rot90(k=3)]\n",
    "\n",
    "    if dataset_type=='val':\n",
    "        label_masks = []\n",
    "    predictions = []\n",
    "    with torch.no_grad():\n",
    "        # Batches\n",
    "        for images, masks in tqdm_notebook(loader):\n",
    "            if dataset_type=='val':\n",
    "                for m in masks.view(-1, 256, 384).numpy():\n",
    "#                 for m in masks.view(-1, 320, 640).numpy():\n",
    "#                 for m in masks.view(-1, 448, 448).numpy():\n",
    "                    m = cv2.resize(m, dsize=(525, 350), interpolation=cv2.INTER_LINEAR)\n",
    "                    label_masks.append(m)\n",
    "            \n",
    "            # Move to default device\n",
    "            images = images.to(device)  # (N, 3, 320, 640)\n",
    "            \n",
    "            # Forward prop.\n",
    "            pred_scores = beta * model(images)  # (N, 4, 320, 640)\n",
    "            \n",
    "            # TTA\n",
    "            for tsfm in tsfms:\n",
    "                pred_scores += (1-beta) * tsfm.inverse(model(tsfm.transform(images))) / len(tsfms)\n",
    "            \n",
    "            # Resize to required size\n",
    "            pred_scores = pred_scores.view(-1, 256, 384)\n",
    "#             pred_scores = pred_scores.view(-1, 320, 640)  # (N*4, 320, 640)\n",
    "#             pred_scores = pred_scores.view(-1, 448, 448)  # (N*4, 320, 640)\n",
    "            for m in torch.sigmoid(pred_scores).cpu().numpy():\n",
    "                m = cv2.resize(m, dsize=(525, 350), interpolation=cv2.INTER_LINEAR)\n",
    "                predictions.append(m)\n",
    "    torch.cuda.empty_cache()\n",
    "\n",
    "    if dataset_type=='val':\n",
    "        return predictions, label_masks\n",
    "    return predictions"
   ]
  },
  {
   "cell_type": "markdown",
   "metadata": {},
   "source": [
    "### Determine threshold from validation"
   ]
  },
  {
   "cell_type": "code",
   "execution_count": 20,
   "metadata": {},
   "outputs": [
    {
     "data": {
      "application/vnd.jupyter.widget-view+json": {
       "model_id": "24a5a4e48f414f728fd10d1426fbab95",
       "version_major": 2,
       "version_minor": 0
      },
      "text/plain": [
       "HBox(children=(IntProgress(value=0, max=70), HTML(value='')))"
      ]
     },
     "metadata": {},
     "output_type": "display_data"
    },
    {
     "name": "stdout",
     "output_type": "stream",
     "text": [
      "\n",
      "131.664384M\n",
      "155.189248M\n"
     ]
    }
   ],
   "source": [
    "# predictions, valid_masks = get_preds(valid_loader, model, dataset_type='val') # list, list\n",
    "predictions, valid_masks = TTA(valid_loader, model, dataset_type='val') # list, list\n",
    "\n",
    "print(str(torch.cuda.memory_allocated(device)/1e6 ) + 'M')\n",
    "print(str(torch.cuda.memory_cached(device)/1e6 ) + 'M')\n",
    "torch.cuda.empty_cache()"
   ]
  },
  {
   "cell_type": "code",
   "execution_count": 21,
   "metadata": {},
   "outputs": [
    {
     "name": "stdout",
     "output_type": "stream",
     "text": [
      "class_id 0: Fish\n",
      "    threshold   size      dice\n",
      "15       0.30  22500  0.665879\n",
      "10       0.25  25000  0.664885\n",
      "16       0.30  25000  0.664543\n",
      "14       0.30  20000  0.664314\n",
      "31       0.45  15000  0.663755\n",
      "\n",
      "class_id 1: Flower\n",
      "    threshold   size      dice\n",
      "26       0.40  20000  0.804138\n",
      "38       0.50  20000  0.802958\n",
      "21       0.35  22500  0.802931\n",
      "55       0.65  15000  0.802875\n",
      "32       0.45  20000  0.802014\n",
      "\n",
      "class_id 2: Gravel\n",
      "    threshold   size      dice\n",
      "37       0.50  15000  0.669234\n",
      "32       0.45  20000  0.666540\n",
      "43       0.55  15000  0.666254\n",
      "14       0.30  20000  0.666227\n",
      "15       0.30  22500  0.665188\n",
      "\n",
      "class_id 3: Sugar\n",
      "    threshold   size      dice\n",
      "18       0.35  10000  0.627693\n",
      "1        0.20  15000  0.625383\n",
      "7        0.25  15000  0.625298\n",
      "13       0.30  15000  0.625176\n",
      "12       0.30  10000  0.624200\n",
      "\n"
     ]
    }
   ],
   "source": [
    "attempts_dfs = []\n",
    "class_params = []\n",
    "\n",
    "for cls_id, clss in enumerate(label_classes):\n",
    "    print(f\"class_id {cls_id}: {clss}\")\n",
    "    attempts = []\n",
    "    for thresh in range(20, 70, 5):   # threshold to decide 0/1\n",
    "        thresh /= 100\n",
    "        for ms in [10000, 15000, 20000, 22500, 25000, 27500]:   # minimum size for qualified mask\n",
    "            dices = []\n",
    "            for i in range(cls_id, len(predictions), 4):\n",
    "                prob_mask = predictions[i]\n",
    "                pred, num_segs = post_process(prob_mask, thresh, ms)\n",
    "                if num_segs > 0:\n",
    "                    dices.append(compute_dice(pred, valid_masks[i]))\n",
    "                elif pred.sum()==0 and valid_masks[i].sum()==0:\n",
    "                    dices.append(1)\n",
    "                else:\n",
    "                    dices.append(0)\n",
    "\n",
    "            attempts.append((thresh, ms, np.mean(dices)))\n",
    "\n",
    "    attempts_df = pd.DataFrame(attempts, columns=['threshold', 'size', 'dice'])\n",
    "    attempts_df = attempts_df.sort_values('dice', ascending=False)\n",
    "    attempts_dfs.append(attempts_df)\n",
    "    print(attempts_df.head())\n",
    "    print()\n",
    "    \n",
    "    best_threshold = attempts_df['threshold'].values[0]\n",
    "    best_size = attempts_df['size'].values[0]\n",
    "    class_params.append((best_threshold, best_size))"
   ]
  },
  {
   "cell_type": "code",
   "execution_count": 22,
   "metadata": {},
   "outputs": [
    {
     "name": "stdout",
     "output_type": "stream",
     "text": [
      "[(0.3, 22500), (0.4, 20000), (0.5, 15000), (0.35, 10000)]\n"
     ]
    }
   ],
   "source": [
    "print(class_params)"
   ]
  },
  {
   "cell_type": "code",
   "execution_count": 23,
   "metadata": {},
   "outputs": [
    {
     "data": {
      "image/png": "[encoded data removed]",
      "text/plain": [
       "<Figure size 720x720 with 4 Axes>"
      ]
     },
     "metadata": {
      "needs_background": "light"
     },
     "output_type": "display_data"
    }
   ],
   "source": [
    "f, axes = plt.subplots(2, 2, figsize=(10, 10), sharex=True)\n",
    "for i, df in enumerate(attempts_dfs):\n",
    "    ax = axes[i//2, i%2]\n",
    "    sns.lineplot(x='threshold', y='dice', hue='size', data=df, ax=ax)\n",
    "    ax.set_title(f'class: {label_classes[i]}')"
   ]
  },
  {
   "cell_type": "markdown",
   "metadata": {},
   "source": [
    "### Prediction from validation set"
   ]
  },
  {
   "cell_type": "code",
   "execution_count": 24,
   "metadata": {},
   "outputs": [
    {
     "name": "stdout",
     "output_type": "stream",
     "text": [
      "validation dice: 0.6917358797307772\n"
     ]
    }
   ],
   "source": [
    "valid_dices = []\n",
    "for i, prob_mask in enumerate(predictions):\n",
    "    pred, num_pred = post_process(prob_mask, *class_params[i%4])\n",
    "    if num_pred > 0:\n",
    "        valid_dices.append(compute_dice(pred, valid_masks[i]))\n",
    "    elif pred.sum()==0 and valid_masks[i].sum()==0:\n",
    "        valid_dices.append(1)\n",
    "    else:\n",
    "        valid_dices.append(0)\n",
    "\n",
    "print(f'validation dice: {np.mean(valid_dices)}')"
   ]
  },
  {
   "cell_type": "code",
   "execution_count": 25,
   "metadata": {},
   "outputs": [
    {
     "name": "stdout",
     "output_type": "stream",
     "text": [
      "validation dice: 0.6221650588944576\n"
     ]
    }
   ],
   "source": [
    "valid_dices = []\n",
    "image_id = 0\n",
    "for i, prob_mask in enumerate(predictions):\n",
    "    pred, num_pred = post_process(prob_mask, *class_params[image_id%4])\n",
    "    if num_pred > 0:\n",
    "        valid_dices.append(compute_dice(pred, valid_masks[i]))\n",
    "#     elif pred.sum()==0 and valid_masks[i].sum()==0:\n",
    "#         valid_dices.append(1)\n",
    "    image_id += 1\n",
    "\n",
    "print(f'validation dice: {np.mean(valid_dices)}')"
   ]
  },
  {
   "cell_type": "code",
   "execution_count": 26,
   "metadata": {},
   "outputs": [
    {
     "name": "stdout",
     "output_type": "stream",
     "text": [
      "validation dice: 0.6707136580108065\n"
     ]
    }
   ],
   "source": [
    "class_params = [(0.45, 22500), (0.5, 22500), (0.45, 22500), (0.4, 22500)]\n",
    "valid_dices = []\n",
    "for i, prob_mask in enumerate(predictions):\n",
    "    pred, num_pred = post_process(prob_mask, *class_params[i%4])\n",
    "    if num_pred > 0:\n",
    "        valid_dices.append(compute_dice(pred, valid_masks[i]))\n",
    "    elif pred.sum()==0 and valid_masks[i].sum()==0:\n",
    "        valid_dices.append(1)\n",
    "    else:\n",
    "        valid_dices.append(0)\n",
    "\n",
    "print(f'validation dice: {np.mean(valid_dices)}')"
   ]
  },
  {
   "cell_type": "code",
   "execution_count": 27,
   "metadata": {},
   "outputs": [
    {
     "name": "stdout",
     "output_type": "stream",
     "text": [
      "validation dice: 0.6307030025212529\n"
     ]
    }
   ],
   "source": [
    "class_params = [(0.5, 35000), (0.5, 35000), (0.5, 35000), (0.5, 35000)]\n",
    "valid_dices = []\n",
    "for i, prob_mask in enumerate(predictions):\n",
    "    pred, num_pred = post_process(prob_mask, *class_params[i%4])\n",
    "    if num_pred > 0:\n",
    "        valid_dices.append(compute_dice(pred, valid_masks[i]))\n",
    "    elif pred.sum()==0 and valid_masks[i].sum()==0:\n",
    "        valid_dices.append(1)\n",
    "    else:\n",
    "        valid_dices.append(0)\n",
    "\n",
    "print(f'validation dice: {np.mean(valid_dices)}')"
   ]
  }
 ],
 "metadata": {
  "kernelspec": {
   "display_name": "Python 3",
   "language": "python",
   "name": "python3"
  },
  "language_info": {
   "codemirror_mode": {
    "name": "ipython",
    "version": 3
   },
   "file_extension": ".py",
   "mimetype": "text/x-python",
   "name": "python",
   "nbconvert_exporter": "python",
   "pygments_lexer": "ipython3",
   "version": "3.6.6"
  },
  "widgets": {
   "application/vnd.jupyter.widget-state+json": {
    "state": {
     "1c7a29c215724460a3f899197afa1084": {
      "model_module": "@jupyter-widgets/base",
      "model_module_version": "1.2.0",
      "model_name": "LayoutModel",
      "state": {
       "_model_module": "@jupyter-widgets/base",
       "_model_module_version": "1.2.0",
       "_model_name": "LayoutModel",
       "_view_count": null,
       "_view_module": "@jupyter-widgets/base",
       "_view_module_version": "1.2.0",
       "_view_name": "LayoutView",
       "align_content": null,
       "align_items": null,
       "align_self": null,
       "border": null,
       "bottom": null,
       "display": null,
       "flex": null,
       "flex_flow": null,
       "grid_area": null,
       "grid_auto_columns": null,
       "grid_auto_flow": null,
       "grid_auto_rows": null,
       "grid_column": null,
       "grid_gap": null,
       "grid_row": null,
       "grid_template_areas": null,
       "grid_template_columns": null,
       "grid_template_rows": null,
       "height": null,
       "justify_content": null,
       "justify_items": null,
       "left": null,
       "margin": null,
       "max_height": null,
       "max_width": null,
       "min_height": null,
       "min_width": null,
       "object_fit": null,
       "object_position": null,
       "order": null,
       "overflow": null,
       "overflow_x": null,
       "overflow_y": null,
       "padding": null,
       "right": null,
       "top": null,
       "visibility": null,
       "width": null
      }
     },
     "24a5a4e48f414f728fd10d1426fbab95": {
      "model_module": "@jupyter-widgets/controls",
      "model_module_version": "1.5.0",
      "model_name": "HBoxModel",
      "state": {
       "_dom_classes": [],
       "_model_module": "@jupyter-widgets/controls",
       "_model_module_version": "1.5.0",
       "_model_name": "HBoxModel",
       "_view_count": null,
       "_view_module": "@jupyter-widgets/controls",
       "_view_module_version": "1.5.0",
       "_view_name": "HBoxView",
       "box_style": "",
       "children": [
        "IPY_MODEL_60c3c6bb5c564fc08c144a1b52d46a9f",
        "IPY_MODEL_4b9961d2184f472f9188f42a95505e79"
       ],
       "layout": "IPY_MODEL_4ecc7e7547e74153903c3d7401f63a15"
      }
     },
     "4b9961d2184f472f9188f42a95505e79": {
      "model_module": "@jupyter-widgets/controls",
      "model_module_version": "1.5.0",
      "model_name": "HTMLModel",
      "state": {
       "_dom_classes": [],
       "_model_module": "@jupyter-widgets/controls",
       "_model_module_version": "1.5.0",
       "_model_name": "HTMLModel",
       "_view_count": null,
       "_view_module": "@jupyter-widgets/controls",
       "_view_module_version": "1.5.0",
       "_view_name": "HTMLView",
       "description": "",
       "description_tooltip": null,
       "layout": "IPY_MODEL_1c7a29c215724460a3f899197afa1084",
       "placeholder": "​",
       "style": "IPY_MODEL_bc6b47a339ad48f081f910208302674d",
       "value": "100% 70/70 [00:46&lt;00:00,  2.08it/s]"
      }
     },
     "4ecc7e7547e74153903c3d7401f63a15": {
      "model_module": "@jupyter-widgets/base",
      "model_module_version": "1.2.0",
      "model_name": "LayoutModel",
      "state": {
       "_model_module": "@jupyter-widgets/base",
       "_model_module_version": "1.2.0",
       "_model_name": "LayoutModel",
       "_view_count": null,
       "_view_module": "@jupyter-widgets/base",
       "_view_module_version": "1.2.0",
       "_view_name": "LayoutView",
       "align_content": null,
       "align_items": null,
       "align_self": null,
       "border": null,
       "bottom": null,
       "display": null,
       "flex": null,
       "flex_flow": null,
       "grid_area": null,
       "grid_auto_columns": null,
       "grid_auto_flow": null,
       "grid_auto_rows": null,
       "grid_column": null,
       "grid_gap": null,
       "grid_row": null,
       "grid_template_areas": null,
       "grid_template_columns": null,
       "grid_template_rows": null,
       "height": null,
       "justify_content": null,
       "justify_items": null,
       "left": null,
       "margin": null,
       "max_height": null,
       "max_width": null,
       "min_height": null,
       "min_width": null,
       "object_fit": null,
       "object_position": null,
       "order": null,
       "overflow": null,
       "overflow_x": null,
       "overflow_y": null,
       "padding": null,
       "right": null,
       "top": null,
       "visibility": null,
       "width": null
      }
     },
     "54b8a185ed5e4541b9e3ac0b3b5ec770": {
      "model_module": "@jupyter-widgets/controls",
      "model_module_version": "1.5.0",
      "model_name": "ProgressStyleModel",
      "state": {
       "_model_module": "@jupyter-widgets/controls",
       "_model_module_version": "1.5.0",
       "_model_name": "ProgressStyleModel",
       "_view_count": null,
       "_view_module": "@jupyter-widgets/base",
       "_view_module_version": "1.2.0",
       "_view_name": "StyleView",
       "bar_color": null,
       "description_width": ""
      }
     },
     "60c3c6bb5c564fc08c144a1b52d46a9f": {
      "model_module": "@jupyter-widgets/controls",
      "model_module_version": "1.5.0",
      "model_name": "IntProgressModel",
      "state": {
       "_dom_classes": [],
       "_model_module": "@jupyter-widgets/controls",
       "_model_module_version": "1.5.0",
       "_model_name": "IntProgressModel",
       "_view_count": null,
       "_view_module": "@jupyter-widgets/controls",
       "_view_module_version": "1.5.0",
       "_view_name": "ProgressView",
       "bar_style": "success",
       "description": "",
       "description_tooltip": null,
       "layout": "IPY_MODEL_c87c0fd8b348429a8b4701bdf6d4cb60",
       "max": 70,
       "min": 0,
       "orientation": "horizontal",
       "style": "IPY_MODEL_54b8a185ed5e4541b9e3ac0b3b5ec770",
       "value": 70
      }
     },
     "bc6b47a339ad48f081f910208302674d": {
      "model_module": "@jupyter-widgets/controls",
      "model_module_version": "1.5.0",
      "model_name": "DescriptionStyleModel",
      "state": {
       "_model_module": "@jupyter-widgets/controls",
       "_model_module_version": "1.5.0",
       "_model_name": "DescriptionStyleModel",
       "_view_count": null,
       "_view_module": "@jupyter-widgets/base",
       "_view_module_version": "1.2.0",
       "_view_name": "StyleView",
       "description_width": ""
      }
     },
     "c87c0fd8b348429a8b4701bdf6d4cb60": {
      "model_module": "@jupyter-widgets/base",
      "model_module_version": "1.2.0",
      "model_name": "LayoutModel",
      "state": {
       "_model_module": "@jupyter-widgets/base",
       "_model_module_version": "1.2.0",
       "_model_name": "LayoutModel",
       "_view_count": null,
       "_view_module": "@jupyter-widgets/base",
       "_view_module_version": "1.2.0",
       "_view_name": "LayoutView",
       "align_content": null,
       "align_items": null,
       "align_self": null,
       "border": null,
       "bottom": null,
       "display": null,
       "flex": null,
       "flex_flow": null,
       "grid_area": null,
       "grid_auto_columns": null,
       "grid_auto_flow": null,
       "grid_auto_rows": null,
       "grid_column": null,
       "grid_gap": null,
       "grid_row": null,
       "grid_template_areas": null,
       "grid_template_columns": null,
       "grid_template_rows": null,
       "height": null,
       "justify_content": null,
       "justify_items": null,
       "left": null,
       "margin": null,
       "max_height": null,
       "max_width": null,
       "min_height": null,
       "min_width": null,
       "object_fit": null,
       "object_position": null,
       "order": null,
       "overflow": null,
       "overflow_x": null,
       "overflow_y": null,
       "padding": null,
       "right": null,
       "top": null,
       "visibility": null,
       "width": null
      }
     }
    },
    "version_major": 2,
    "version_minor": 0
   }
  }
 },
 "nbformat": 4,
 "nbformat_minor": 1
}
